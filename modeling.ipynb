{
 "cells": [
  {
   "cell_type": "code",
   "execution_count": 128,
   "metadata": {},
   "outputs": [],
   "source": [
    "import pandas as pd\n",
    "import numpy as np\n",
    "import matplotlib.pyplot as plt\n",
    "import seaborn as sns\n",
    "import nltk\n",
    "from scipy.stats import randint\n",
    "\n",
    "from nltk.corpus import stopwords\n",
    "from sklearn.feature_extraction import text\n",
    "from sklearn.feature_extraction.text import CountVectorizer\n",
    "\n",
    "\n",
    "from sklearn.naive_bayes import MultinomialNB\n",
    "from sklearn.linear_model import LogisticRegression\n",
    "from sklearn.pipeline import Pipeline\n",
    "from sklearn.metrics import confusion_matrix, plot_confusion_matrix, r2_score, precision_score, f1_score, recall_score, accuracy_score\n",
    "from sklearn.model_selection import train_test_split, RandomizedSearchCV\n",
    "from skopt import BayesSearchCV\n",
    "from skopt.space import Integer, Real, Categorical\n",
    "from sklearn.tree import DecisionTreeClassifier, plot_tree, export_text\n",
    "from sklearn.ensemble import RandomForestClassifier, ExtraTreesClassifier\n",
    "\n",
    "from scipy.stats import uniform, loguniform\n",
    "\n",
    "import pickle\n"
   ]
  },
  {
   "cell_type": "code",
   "execution_count": null,
   "metadata": {},
   "outputs": [],
   "source": [
    "## The following run in Terminal to facilitate BayesSearchCV\n",
    "# pip install --force-reinstall \"scikit-learn==0.23.2\""
   ]
  },
  {
   "cell_type": "code",
   "execution_count": 162,
   "metadata": {},
   "outputs": [],
   "source": [
    "data_raw = pd.read_csv('./data/allposts_struc.csv')\n",
    "data_vecd = pd.read_csv('./data/merged_with_bigrams.csv')"
   ]
  },
  {
   "cell_type": "code",
   "execution_count": 163,
   "metadata": {},
   "outputs": [],
   "source": [
    "#remove extra index column that made it into data_vecd\n",
    "data_vecd.drop(columns='index', inplace=True)\n",
    "data_raw.drop(columns='index', inplace=True)"
   ]
  },
  {
   "cell_type": "code",
   "execution_count": 41,
   "metadata": {},
   "outputs": [
    {
     "data": {
      "text/plain": [
       "lem_selftext    0\n",
       "mod_selftext    0\n",
       "selftext        0\n",
       "subreddit       0\n",
       "created_utc     0\n",
       "dtype: int64"
      ]
     },
     "execution_count": 41,
     "metadata": {},
     "output_type": "execute_result"
    }
   ],
   "source": [
    "data_raw.isnull().sum().sort_values(ascending=False).head()"
   ]
  },
  {
   "cell_type": "code",
   "execution_count": 42,
   "metadata": {},
   "outputs": [
    {
     "data": {
      "text/plain": [
       "relationship_advice    0.50775\n",
       "pettyrevenge           0.49225\n",
       "Name: subreddit, dtype: float64"
      ]
     },
     "execution_count": 42,
     "metadata": {},
     "output_type": "execute_result"
    }
   ],
   "source": [
    "#baseline accuracy\n",
    "data_vecd.subreddit.value_counts(normalize=True)"
   ]
  },
  {
   "cell_type": "code",
   "execution_count": 164,
   "metadata": {},
   "outputs": [],
   "source": [
    "#forgot to numify before fitting model 1, so run this cell here for model 1\n",
    "# assign initial train_test_split based on str X\n",
    "# change to numified X in subsequent models\n",
    "X=data_raw['lem_selftext']\n",
    "y=data_raw['subreddit']\n",
    "X_train, X_test, y_train, y_test = train_test_split(X, y, random_state=42, test_size=.33)"
   ]
  },
  {
   "cell_type": "code",
   "execution_count": 170,
   "metadata": {},
   "outputs": [],
   "source": [
    "data_vecd['subreddit'] = data_vecd['subreddit'].apply(lambda x: 0 if x=='pettyrevenge' else 1)\n",
    "data_raw['subreddit'] = data_raw['subreddit'].apply(lambda x: 0 if x=='pettyrevenge' else 1)"
   ]
  },
  {
   "cell_type": "code",
   "execution_count": 171,
   "metadata": {},
   "outputs": [
    {
     "data": {
      "text/plain": [
       "1    0.50775\n",
       "0    0.49225\n",
       "Name: subreddit, dtype: float64"
      ]
     },
     "execution_count": 171,
     "metadata": {},
     "output_type": "execute_result"
    }
   ],
   "source": [
    "data_raw.subreddit.value_counts(normalize=True)"
   ]
  },
  {
   "cell_type": "markdown",
   "metadata": {},
   "source": [
    "# Modeling"
   ]
  },
  {
   "cell_type": "code",
   "execution_count": 76,
   "metadata": {},
   "outputs": [],
   "source": [
    "#custom stopwords: 'english', + unique lems + 'im' just because\n",
    "my_words = ['wa', 'ha', 'doe', 'a', 'im']\n",
    "custom_stop = text.ENGLISH_STOP_WORDS.union(my_words)"
   ]
  },
  {
   "cell_type": "markdown",
   "metadata": {},
   "source": [
    "# Model 1: cvec -> MultinomialBayes\n",
    "This scored very well (mid-90s) in all metrics.  Suspiciously high.  See Model2 explanation. \n",
    "\n",
    "---\n",
    "# Model 2: DecisionTree with 0 hyperparams\n",
    "This was just to get a picture of how the tree was making decisions, then I'd use that to guide BayesSearchCV params.  It also scored suspiciously high. Printing the tree text revealed that the source of success in Models 1 and 2 is likely due to key words _relationship_ and _revenge_.  As such, I will include the title words of both subreddits in the stopwords for all subsequent models."
   ]
  },
  {
   "cell_type": "code",
   "execution_count": 7,
   "metadata": {},
   "outputs": [],
   "source": [
    "pipe = Pipeline([\n",
    "    ('cvec', CountVectorizer(stop_words=custom_stop) ),\n",
    "    ('mnb', MultinomialNB() ),\n",
    "])\n",
    "\n",
    "pipe_params = {\n",
    "    'cvec__max_features': randint(500,8000),\n",
    "    'cvec__min_df': uniform(.01, .05),\n",
    "    'cvec__max_df': [.90, .98], #change to randint or uniform(.90,.98)?\n",
    "    'cvec__ngram_range': [(1,1), (1,2), (1,3)],\n",
    "    'mnb__alpha': uniform(.01,10)                    \n",
    "}"
   ]
  },
  {
   "cell_type": "code",
   "execution_count": 9,
   "metadata": {},
   "outputs": [],
   "source": [
    "vec_mnb_rs = RandomizedSearchCV(estimator = pipe, \n",
    "                                param_distributions=pipe_params, \n",
    "                                scoring = 'f1_weighted',\n",
    "                                random_state=42,\n",
    "                                n_iter=1000,\n",
    "                                cv=5,\n",
    "                                n_jobs=-1, verbose=1)"
   ]
  },
  {
   "cell_type": "code",
   "execution_count": 10,
   "metadata": {
    "scrolled": true
   },
   "outputs": [
    {
     "name": "stdout",
     "output_type": "stream",
     "text": [
      "Fitting 5 folds for each of 1000 candidates, totalling 5000 fits\n"
     ]
    },
    {
     "name": "stderr",
     "output_type": "stream",
     "text": [
      "[Parallel(n_jobs=-1)]: Using backend LokyBackend with 8 concurrent workers.\n",
      "/Users/helenmeigs/opt/anaconda3/lib/python3.8/site-packages/joblib/externals/loky/process_executor.py:688: UserWarning: A worker stopped while some jobs were given to the executor. This can be caused by a too short worker timeout or by a memory leak.\n",
      "  warnings.warn(\n",
      "[Parallel(n_jobs=-1)]: Done  34 tasks      | elapsed:   31.1s\n",
      "[Parallel(n_jobs=-1)]: Done 184 tasks      | elapsed:  3.0min\n",
      "[Parallel(n_jobs=-1)]: Done 434 tasks      | elapsed:  8.5min\n",
      "[Parallel(n_jobs=-1)]: Done 784 tasks      | elapsed: 17.0min\n",
      "[Parallel(n_jobs=-1)]: Done 1234 tasks      | elapsed: 28.7min\n",
      "[Parallel(n_jobs=-1)]: Done 1784 tasks      | elapsed: 37.9min\n",
      "[Parallel(n_jobs=-1)]: Done 2434 tasks      | elapsed: 51.0min\n",
      "[Parallel(n_jobs=-1)]: Done 3184 tasks      | elapsed: 75.8min\n",
      "[Parallel(n_jobs=-1)]: Done 4034 tasks      | elapsed: 92.1min\n",
      "[Parallel(n_jobs=-1)]: Done 4984 tasks      | elapsed: 116.5min\n",
      "[Parallel(n_jobs=-1)]: Done 5000 out of 5000 | elapsed: 116.7min finished\n"
     ]
    },
    {
     "data": {
      "text/plain": [
       "RandomizedSearchCV(cv=5,\n",
       "                   estimator=Pipeline(steps=[('cvec',\n",
       "                                              CountVectorizer(stop_words=frozenset({'a',\n",
       "                                                                                    'about',\n",
       "                                                                                    'above',\n",
       "                                                                                    'across',\n",
       "                                                                                    'after',\n",
       "                                                                                    'afterwards',\n",
       "                                                                                    'again',\n",
       "                                                                                    'against',\n",
       "                                                                                    'all',\n",
       "                                                                                    'almost',\n",
       "                                                                                    'alone',\n",
       "                                                                                    'along',\n",
       "                                                                                    'already',\n",
       "                                                                                    'also',\n",
       "                                                                                    'although',\n",
       "                                                                                    'always',\n",
       "                                                                                    'am',\n",
       "                                                                                    'among',\n",
       "                                                                                    'amongst',\n",
       "                                                                                    'amoungst',\n",
       "                                                                                    'amount',\n",
       "                                                                                    'an',\n",
       "                                                                                    'and',\n",
       "                                                                                    'another',\n",
       "                                                                                    'any',\n",
       "                                                                                    'anyhow',\n",
       "                                                                                    'anyone',\n",
       "                                                                                    'anything',\n",
       "                                                                                    'anyway',\n",
       "                                                                                    'anywhere'...\n",
       "                   param_distributions={'cvec__max_df': [0.9, 0.98],\n",
       "                                        'cvec__max_features': <scipy.stats._distn_infrastructure.rv_frozen object at 0x7f7f0c9b30d0>,\n",
       "                                        'cvec__min_df': <scipy.stats._distn_infrastructure.rv_frozen object at 0x7f7f0c1eb940>,\n",
       "                                        'cvec__ngram_range': [(1, 1), (1, 2),\n",
       "                                                              (1, 3)],\n",
       "                                        'mnb__alpha': <scipy.stats._distn_infrastructure.rv_frozen object at 0x7f7f0c9b3670>},\n",
       "                   random_state=42, scoring='f1_weighted', verbose=1)"
      ]
     },
     "execution_count": 10,
     "metadata": {},
     "output_type": "execute_result"
    }
   ],
   "source": [
    "# vec_mnb_rs.fit(X_train, y_train)"
   ]
  },
  {
   "cell_type": "code",
   "execution_count": 18,
   "metadata": {},
   "outputs": [],
   "source": [
    "pkl_cvec_mnb_rs = './models/vec_mnb1.pkl'\n",
    "with open (pkl_cvec_mnb_rs, 'wb') as file:\n",
    "    pickle.dump(vec_mnb_rs, file)"
   ]
  },
  {
   "cell_type": "code",
   "execution_count": 153,
   "metadata": {},
   "outputs": [],
   "source": [
    "with open(pkl_cvec_mnb_rs, 'rb') as file:\n",
    "    mnb1_pickle = pickle.load(file)"
   ]
  },
  {
   "cell_type": "code",
   "execution_count": 161,
   "metadata": {},
   "outputs": [
    {
     "data": {
      "text/plain": [
       "relationship_advice    12000\n",
       "Name: lem_selftext, dtype: int64"
      ]
     },
     "execution_count": 161,
     "metadata": {},
     "output_type": "execute_result"
    }
   ],
   "source": [
    "Xa.value_counts()"
   ]
  },
  {
   "cell_type": "code",
   "execution_count": 165,
   "metadata": {},
   "outputs": [
    {
     "data": {
      "text/plain": [
       "(0.9616885248965604, 0.9593432710073183)"
      ]
     },
     "execution_count": 165,
     "metadata": {},
     "output_type": "execute_result"
    }
   ],
   "source": [
    "mnb1_pickle.score(X_train, y_train), mnb1_pickle.score(X_test, y_test)"
   ]
  },
  {
   "cell_type": "code",
   "execution_count": 166,
   "metadata": {},
   "outputs": [
    {
     "data": {
      "text/plain": [
       "{'cvec__max_df': 0.98,\n",
       " 'cvec__max_features': 6088,\n",
       " 'cvec__min_df': 0.010093994176245532,\n",
       " 'cvec__ngram_range': (1, 3),\n",
       " 'mnb__alpha': 0.04218263604278682}"
      ]
     },
     "execution_count": 166,
     "metadata": {},
     "output_type": "execute_result"
    }
   ],
   "source": [
    "mnb1_pickle.best_params_"
   ]
  },
  {
   "cell_type": "code",
   "execution_count": 167,
   "metadata": {},
   "outputs": [
    {
     "data": {
      "text/plain": [
       "CountVectorizer(max_df=0.98, max_features=6088, min_df=0.010093994176245532,\n",
       "                ngram_range=(1, 3),\n",
       "                stop_words=frozenset({'a', 'about', 'above', 'across', 'after',\n",
       "                                      'afterwards', 'again', 'against', 'all',\n",
       "                                      'almost', 'alone', 'along', 'already',\n",
       "                                      'also', 'although', 'always', 'am',\n",
       "                                      'among', 'amongst', 'amoungst', 'amount',\n",
       "                                      'an', 'and', 'another', 'any', 'anyhow',\n",
       "                                      'anyone', 'anything', 'anyway',\n",
       "                                      'anywhere', ...}))"
      ]
     },
     "execution_count": 167,
     "metadata": {},
     "output_type": "execute_result"
    }
   ],
   "source": [
    "mnb1_pickle.best_estimator_['cvec']"
   ]
  },
  {
   "cell_type": "code",
   "execution_count": 168,
   "metadata": {},
   "outputs": [
    {
     "data": {
      "text/plain": [
       "MultinomialNB(alpha=0.04218263604278682)"
      ]
     },
     "execution_count": 168,
     "metadata": {},
     "output_type": "execute_result"
    }
   ],
   "source": [
    "mnb1_pickle.best_estimator_['mnb']"
   ]
  },
  {
   "cell_type": "code",
   "execution_count": 118,
   "metadata": {},
   "outputs": [],
   "source": [
    "#hand to calc scores manually because forgot to numify target before fitting first model...\n",
    "def see_scores(model, X_test, y_test):\n",
    "    preds = model.predict(X_test)\n",
    "    tn, fp, fn, tp = confusion_matrix(y_test, preds).ravel()\n",
    "    print(confusion_matrix(y_test, preds))\n",
    "    \n",
    "    print(f'\\nAccuracy: {accuracy_score(y_test, preds).round(6)}')\n",
    "    print(f'\\nSensitivity: {(tp/(tp+fn)).round(6)}')\n",
    "    print(f'\\nPrecision: {tp/(tp+fp).round(6)}')\n",
    "    print(f'\\nSpecificity: {(tn/(tn+fp)).round(6)}')\n",
    "    print(f'\\nF1: {tp/(tp + 0.5*(fp + fn)).round(6)}')\n",
    "    \n",
    "    plot_confusion_matrix(model, X_test, y_test)\n",
    "    "
   ]
  },
  {
   "cell_type": "code",
   "execution_count": 169,
   "metadata": {},
   "outputs": [
    {
     "name": "stdout",
     "output_type": "stream",
     "text": [
      "[[1896   85]\n",
      " [  76 1903]]\n",
      "\n",
      "Accuracy: 0.959343\n",
      "\n",
      "Sensitivity: 0.961597\n",
      "\n",
      "Precision: 0.9572434607645876\n",
      "\n",
      "Specificity: 0.957092\n",
      "\n",
      "F1: 0.9594151751953617\n"
     ]
    },
    {
     "data": {
      "image/png": "[encoded data removed]",
      "text/plain": [
       "<Figure size 432x288 with 2 Axes>"
      ]
     },
     "metadata": {
      "needs_background": "light"
     },
     "output_type": "display_data"
    }
   ],
   "source": [
    "see_scores(mnb1_pickle, X_test, y_test)"
   ]
  },
  {
   "cell_type": "code",
   "execution_count": null,
   "metadata": {},
   "outputs": [],
   "source": []
  },
  {
   "cell_type": "markdown",
   "metadata": {},
   "source": [
    "## Model 2: Decision Tree base\n",
    "First fit already vectorized data (concatenated 1-gram and bigrams) with no params - will be overfit, but use to guide ranges in BayesSearchCV.  Takeaways:\n",
    "* add title words to stopwords ('relationship', 'advice', 'petty', 'revenge')\n",
    "* max branch depth was 71, then 48, 38, 25.  Lower branch depth to reduce overfitting.\n",
    "    * to achieve purity (leaf=1)"
   ]
  },
  {
   "cell_type": "code",
   "execution_count": 90,
   "metadata": {},
   "outputs": [],
   "source": [
    "X0=data_vecd.drop(columns=['author','num_comments','timestamp','num_sentences','avg_words_per_sent', 'wordcount','comma_count','qmark_count', 'exclamatios','is_mobile','subreddit'])\n",
    "y0=data_vecd['subreddit']\n",
    "X0_train, X0_test, y0_train, y0_test = train_test_split(X0, y0, random_state=42, test_size=.33)"
   ]
  },
  {
   "cell_type": "code",
   "execution_count": 91,
   "metadata": {},
   "outputs": [
    {
     "data": {
      "text/plain": [
       "DecisionTreeClassifier(random_state=42)"
      ]
     },
     "execution_count": 91,
     "metadata": {},
     "output_type": "execute_result"
    }
   ],
   "source": [
    "dt0 = DecisionTreeClassifier(random_state=42)\n",
    "dt0.fit(X0_train, y0_train)"
   ]
  },
  {
   "cell_type": "code",
   "execution_count": 92,
   "metadata": {},
   "outputs": [
    {
     "data": {
      "text/plain": [
       "(1.0, 0.8772727272727273)"
      ]
     },
     "execution_count": 92,
     "metadata": {},
     "output_type": "execute_result"
    }
   ],
   "source": [
    "dt0.score(X0_train, y0_train), dt0.score(X0_test, y0_test)"
   ]
  },
  {
   "cell_type": "code",
   "execution_count": 102,
   "metadata": {},
   "outputs": [],
   "source": [
    "## 'Relationship' (#1), 'advice', 'petty', and 'revenge' all in top 10 nodes.  \n",
    "## Should've seen that coming.\n",
    "## adjust stopwords\n",
    "#print(export_text(dt0, list(X0_train.columns)))"
   ]
  },
  {
   "cell_type": "code",
   "execution_count": null,
   "metadata": {},
   "outputs": [],
   "source": []
  },
  {
   "cell_type": "code",
   "execution_count": null,
   "metadata": {},
   "outputs": [],
   "source": []
  },
  {
   "cell_type": "code",
   "execution_count": null,
   "metadata": {},
   "outputs": [],
   "source": []
  },
  {
   "cell_type": "markdown",
   "metadata": {},
   "source": [
    "## Model 1a: same param as Model 1 but with updated stopwords\n",
    "And a couple other tweaks to hone in on the ideal values from in first pipeline best_params."
   ]
  },
  {
   "cell_type": "code",
   "execution_count": 110,
   "metadata": {},
   "outputs": [],
   "source": [
    "#update\n",
    "my_words = ['wa', 'ha', 'doe', 'a', 'im', 'relationship', 'advice','petty','revenge']\n",
    "new_stop = text.ENGLISH_STOP_WORDS.union(my_words)"
   ]
  },
  {
   "cell_type": "code",
   "execution_count": 111,
   "metadata": {},
   "outputs": [],
   "source": [
    "X = X=data_raw['lem_selftext']\n",
    "y=data_raw['subreddit']\n",
    "X_train, X_test, y_train, y_test = train_test_split(X, y, random_state=42, test_size=.33)"
   ]
  },
  {
   "cell_type": "code",
   "execution_count": 112,
   "metadata": {},
   "outputs": [],
   "source": [
    "pipe_b = Pipeline([\n",
    "    ('cvec', CountVectorizer(stop_words=new_stop) ),\n",
    "    ('mnb', MultinomialNB() ),\n",
    "])\n",
    "\n",
    "pipe_b_params = {\n",
    "    'cvec__max_features': randint(6000,10000), #updated and expanded since more limiting stopwords\n",
    "    'cvec__min_df': uniform(.001, .05),\n",
    "    'cvec__max_df': uniform(.95, 1.), #updated to range, not discrete\n",
    "    'cvec__ngram_range': [(1,3), (2,4)], #updated\n",
    "    'mnb__alpha': uniform(.001,1)   # updated                   \n",
    "}"
   ]
  },
  {
   "cell_type": "code",
   "execution_count": 113,
   "metadata": {},
   "outputs": [],
   "source": [
    "b_vec_mnb = RandomizedSearchCV(estimator = pipe_b, \n",
    "                                param_distributions=pipe_b_params, \n",
    "                                scoring = 'f1_weighted',\n",
    "                                random_state=42,\n",
    "                                n_iter=1000,\n",
    "                                cv=5,\n",
    "                                n_jobs=-1, verbose=1)"
   ]
  },
  {
   "cell_type": "code",
   "execution_count": 114,
   "metadata": {
    "scrolled": true
   },
   "outputs": [
    {
     "name": "stdout",
     "output_type": "stream",
     "text": [
      "Fitting 5 folds for each of 1000 candidates, totalling 5000 fits\n"
     ]
    },
    {
     "name": "stderr",
     "output_type": "stream",
     "text": [
      "[Parallel(n_jobs=-1)]: Using backend LokyBackend with 8 concurrent workers.\n",
      "/Users/helenmeigs/opt/anaconda3/lib/python3.8/site-packages/joblib/externals/loky/process_executor.py:688: UserWarning: A worker stopped while some jobs were given to the executor. This can be caused by a too short worker timeout or by a memory leak.\n",
      "  warnings.warn(\n",
      "[Parallel(n_jobs=-1)]: Done  34 tasks      | elapsed:  1.6min\n",
      "[Parallel(n_jobs=-1)]: Done 184 tasks      | elapsed:  7.4min\n",
      "[Parallel(n_jobs=-1)]: Done 434 tasks      | elapsed: 16.5min\n",
      "[Parallel(n_jobs=-1)]: Done 784 tasks      | elapsed: 29.9min\n",
      "[Parallel(n_jobs=-1)]: Done 1234 tasks      | elapsed: 47.6min\n",
      "[Parallel(n_jobs=-1)]: Done 1784 tasks      | elapsed: 70.1min\n",
      "[Parallel(n_jobs=-1)]: Done 2434 tasks      | elapsed: 96.3min\n",
      "[Parallel(n_jobs=-1)]: Done 3184 tasks      | elapsed: 124.3min\n",
      "[Parallel(n_jobs=-1)]: Done 4034 tasks      | elapsed: 155.7min\n",
      "[Parallel(n_jobs=-1)]: Done 4984 tasks      | elapsed: 190.3min\n",
      "[Parallel(n_jobs=-1)]: Done 5000 out of 5000 | elapsed: 190.8min finished\n"
     ]
    },
    {
     "name": "stdout",
     "output_type": "stream",
     "text": [
      "CPU times: user 1min 31s, sys: 3min 17s, total: 4min 49s\n",
      "Wall time: 3h 10min 53s\n"
     ]
    },
    {
     "data": {
      "text/plain": [
       "RandomizedSearchCV(cv=5,\n",
       "                   estimator=Pipeline(steps=[('cvec',\n",
       "                                              CountVectorizer(stop_words=frozenset({'a',\n",
       "                                                                                    'about',\n",
       "                                                                                    'above',\n",
       "                                                                                    'across',\n",
       "                                                                                    'advice',\n",
       "                                                                                    'after',\n",
       "                                                                                    'afterwards',\n",
       "                                                                                    'again',\n",
       "                                                                                    'against',\n",
       "                                                                                    'all',\n",
       "                                                                                    'almost',\n",
       "                                                                                    'alone',\n",
       "                                                                                    'along',\n",
       "                                                                                    'already',\n",
       "                                                                                    'also',\n",
       "                                                                                    'although',\n",
       "                                                                                    'always',\n",
       "                                                                                    'am',\n",
       "                                                                                    'among',\n",
       "                                                                                    'amongst',\n",
       "                                                                                    'amoungst',\n",
       "                                                                                    'amount',\n",
       "                                                                                    'an',\n",
       "                                                                                    'and',\n",
       "                                                                                    'another',\n",
       "                                                                                    'any',\n",
       "                                                                                    'anyhow',\n",
       "                                                                                    'anyone',\n",
       "                                                                                    'anything',\n",
       "                                                                                    'anyway', ....\n",
       "                   param_distributions={'cvec__max_df': <scipy.stats._distn_infrastructure.rv_frozen object at 0x7f7e9a2d9490>,\n",
       "                                        'cvec__max_features': <scipy.stats._distn_infrastructure.rv_frozen object at 0x7f7f0c9a8ca0>,\n",
       "                                        'cvec__min_df': <scipy.stats._distn_infrastructure.rv_frozen object at 0x7f7e99522220>,\n",
       "                                        'cvec__ngram_range': [(1, 3), (2, 4)],\n",
       "                                        'mnb__alpha': <scipy.stats._distn_infrastructure.rv_frozen object at 0x7f7e9a9a7ee0>},\n",
       "                   random_state=42, scoring='f1_weighted', verbose=1)"
      ]
     },
     "execution_count": 114,
     "metadata": {},
     "output_type": "execute_result"
    }
   ],
   "source": [
    "# %%time\n",
    "# b_vec_mnb.fit(X_train, y_train)"
   ]
  },
  {
   "cell_type": "code",
   "execution_count": 122,
   "metadata": {},
   "outputs": [],
   "source": [
    "pkl_b_vec_mnb = './models/vec_mnb2.pkl'\n",
    "with open (pkl_b_vec_mnb, 'wb') as file:\n",
    "    pickle.dump(b_vec_mnb, file)"
   ]
  },
  {
   "cell_type": "code",
   "execution_count": 152,
   "metadata": {},
   "outputs": [],
   "source": [
    "with open(pkl_b_vec_mnb, 'rb') as file:\n",
    "    mnb2_pickle = pickle.load(file)"
   ]
  },
  {
   "cell_type": "code",
   "execution_count": 145,
   "metadata": {},
   "outputs": [
    {
     "data": {
      "text/plain": [
       "{'cvec__max_df': 1.0018357991197289,\n",
       " 'cvec__max_features': 6112,\n",
       " 'cvec__min_df': 0.0019897829173627195,\n",
       " 'cvec__ngram_range': (1, 3),\n",
       " 'mnb__alpha': 0.3077765995221412}"
      ]
     },
     "execution_count": 145,
     "metadata": {},
     "output_type": "execute_result"
    }
   ],
   "source": [
    "mnb2_pickle.best_params_"
   ]
  },
  {
   "cell_type": "code",
   "execution_count": 146,
   "metadata": {},
   "outputs": [
    {
     "data": {
      "text/plain": [
       "(0.963179184532175, 0.9575753030725069)"
      ]
     },
     "execution_count": 146,
     "metadata": {},
     "output_type": "execute_result"
    }
   ],
   "source": [
    "mnb2_pickle.score(X_train, y_train), mnb2_pickle.score(X_test, y_test)"
   ]
  },
  {
   "cell_type": "code",
   "execution_count": 147,
   "metadata": {},
   "outputs": [
    {
     "data": {
      "text/plain": [
       "{'cvec__max_df': 1.0018357991197289,\n",
       " 'cvec__max_features': 6112,\n",
       " 'cvec__min_df': 0.0019897829173627195,\n",
       " 'cvec__ngram_range': (1, 3),\n",
       " 'mnb__alpha': 0.3077765995221412}"
      ]
     },
     "execution_count": 147,
     "metadata": {},
     "output_type": "execute_result"
    }
   ],
   "source": [
    "mnb2_pickle.best_params_"
   ]
  },
  {
   "cell_type": "code",
   "execution_count": 149,
   "metadata": {},
   "outputs": [
    {
     "name": "stdout",
     "output_type": "stream",
     "text": [
      "[[1890   91]\n",
      " [  77 1902]]\n",
      "\n",
      "Accuracy: 0.957576\n",
      "\n",
      "Sensitivity: 0.961091\n",
      "\n",
      "Precision: 0.9543401906673357\n",
      "\n",
      "Specificity: 0.954064\n",
      "\n",
      "F1: 0.9577039274924471\n"
     ]
    },
    {
     "data": {
      "image/png": "[encoded data removed]",
      "text/plain": [
       "<Figure size 432x288 with 2 Axes>"
      ]
     },
     "metadata": {
      "needs_background": "light"
     },
     "output_type": "display_data"
    }
   ],
   "source": [
    "#see_scores(b_vec_mnb, X_test, y_test)\n",
    "see_scores(mnb2_pickle, X_test, y_test)"
   ]
  },
  {
   "cell_type": "code",
   "execution_count": null,
   "metadata": {},
   "outputs": [],
   "source": []
  },
  {
   "cell_type": "code",
   "execution_count": null,
   "metadata": {},
   "outputs": [],
   "source": []
  },
  {
   "cell_type": "code",
   "execution_count": null,
   "metadata": {},
   "outputs": [],
   "source": []
  },
  {
   "cell_type": "code",
   "execution_count": null,
   "metadata": {},
   "outputs": [],
   "source": []
  },
  {
   "cell_type": "markdown",
   "metadata": {},
   "source": [
    "## Model 2a: Decision Tree with BayesSearch\n",
    "Cvec parameters are guided by results from model 1, even though that was using different estimator. Decision Tree parameters are more of a shot in the dark, but are selected in theory to reduce overfitting."
   ]
  },
  {
   "cell_type": "code",
   "execution_count": 172,
   "metadata": {},
   "outputs": [],
   "source": [
    "tree_pipe = Pipeline([\n",
    "    ('cvec', CountVectorizer(stop_words=new_stop, max_df=.98, ngram_range=(1,3)) ),\n",
    "    #cvec params based on best_params_ from vec_mnb2\n",
    "    ('tree', DecisionTreeClassifier(random_state=42, splitter='random')) \n",
    "    # random splitter to reduce overfitting\n",
    "])\n",
    "\n",
    "tree_pipe_params = {\n",
    "    'cvec__max_features': Integer(5500,8000),   \n",
    "    'cvec__min_df': Real(.001, .03),\n",
    "    \n",
    "    'tree__max_depth': Integer(20,60),  #max at dtree base params was ~70\n",
    "    'tree__min_samples_leaf': Integer(5,100),\n",
    "    'tree__ccp_alpha': uniform(.0,10),\n",
    "}   "
   ]
  },
  {
   "cell_type": "code",
   "execution_count": 173,
   "metadata": {},
   "outputs": [
    {
     "ename": "ValueError",
     "evalue": "Dimension has to be a list or tuple.",
     "output_type": "error",
     "traceback": [
      "\u001b[0;31m---------------------------------------------------------------------------\u001b[0m",
      "\u001b[0;31mValueError\u001b[0m                                Traceback (most recent call last)",
      "\u001b[0;32m<ipython-input-173-bc19d8fe823c>\u001b[0m in \u001b[0;36m<module>\u001b[0;34m\u001b[0m\n\u001b[0;32m----> 1\u001b[0;31m dtree_bs = BayesSearchCV(estimator = tree_pipe,\n\u001b[0m\u001b[1;32m      2\u001b[0m                          \u001b[0msearch_spaces\u001b[0m\u001b[0;34m=\u001b[0m \u001b[0mtree_pipe_params\u001b[0m\u001b[0;34m,\u001b[0m\u001b[0;34m\u001b[0m\u001b[0;34m\u001b[0m\u001b[0m\n\u001b[1;32m      3\u001b[0m                          \u001b[0mscoring\u001b[0m \u001b[0;34m=\u001b[0m \u001b[0;34m'f1_weighted'\u001b[0m\u001b[0;34m,\u001b[0m\u001b[0;34m\u001b[0m\u001b[0;34m\u001b[0m\u001b[0m\n\u001b[1;32m      4\u001b[0m                          \u001b[0mn_iter\u001b[0m \u001b[0;34m=\u001b[0m \u001b[0;36m50\u001b[0m\u001b[0;34m,\u001b[0m\u001b[0;34m\u001b[0m\u001b[0;34m\u001b[0m\u001b[0m\n\u001b[1;32m      5\u001b[0m                          \u001b[0mcv\u001b[0m \u001b[0;34m=\u001b[0m \u001b[0;36m5\u001b[0m\u001b[0;34m,\u001b[0m\u001b[0;34m\u001b[0m\u001b[0;34m\u001b[0m\u001b[0m\n",
      "\u001b[0;32m~/opt/anaconda3/lib/python3.8/site-packages/skopt/searchcv.py\u001b[0m in \u001b[0;36m__init__\u001b[0;34m(self, estimator, search_spaces, optimizer_kwargs, n_iter, scoring, fit_params, n_jobs, n_points, iid, refit, cv, verbose, pre_dispatch, random_state, error_score, return_train_score)\u001b[0m\n\u001b[1;32m    300\u001b[0m         \u001b[0mself\u001b[0m\u001b[0;34m.\u001b[0m\u001b[0mrandom_state\u001b[0m \u001b[0;34m=\u001b[0m \u001b[0mrandom_state\u001b[0m\u001b[0;34m\u001b[0m\u001b[0;34m\u001b[0m\u001b[0m\n\u001b[1;32m    301\u001b[0m         \u001b[0mself\u001b[0m\u001b[0;34m.\u001b[0m\u001b[0moptimizer_kwargs\u001b[0m \u001b[0;34m=\u001b[0m \u001b[0moptimizer_kwargs\u001b[0m\u001b[0;34m\u001b[0m\u001b[0;34m\u001b[0m\u001b[0m\n\u001b[0;32m--> 302\u001b[0;31m         \u001b[0mself\u001b[0m\u001b[0;34m.\u001b[0m\u001b[0m_check_search_space\u001b[0m\u001b[0;34m(\u001b[0m\u001b[0mself\u001b[0m\u001b[0;34m.\u001b[0m\u001b[0msearch_spaces\u001b[0m\u001b[0;34m)\u001b[0m\u001b[0;34m\u001b[0m\u001b[0;34m\u001b[0m\u001b[0m\n\u001b[0m\u001b[1;32m    303\u001b[0m         \u001b[0;31m# Temporary fix for compatibility with sklearn 0.20 and 0.21\u001b[0m\u001b[0;34m\u001b[0m\u001b[0;34m\u001b[0m\u001b[0;34m\u001b[0m\u001b[0m\n\u001b[1;32m    304\u001b[0m         \u001b[0;31m# See scikit-optimize#762\u001b[0m\u001b[0;34m\u001b[0m\u001b[0;34m\u001b[0m\u001b[0;34m\u001b[0m\u001b[0m\n",
      "\u001b[0;32m~/opt/anaconda3/lib/python3.8/site-packages/skopt/searchcv.py\u001b[0m in \u001b[0;36m_check_search_space\u001b[0;34m(self, search_space)\u001b[0m\n\u001b[1;32m    360\u001b[0m             \u001b[0;32mfor\u001b[0m \u001b[0msubspace\u001b[0m \u001b[0;32min\u001b[0m \u001b[0mdicts_only\u001b[0m\u001b[0;34m:\u001b[0m\u001b[0;34m\u001b[0m\u001b[0;34m\u001b[0m\u001b[0m\n\u001b[1;32m    361\u001b[0m                 \u001b[0;32mfor\u001b[0m \u001b[0mk\u001b[0m\u001b[0;34m,\u001b[0m \u001b[0mv\u001b[0m \u001b[0;32min\u001b[0m \u001b[0msubspace\u001b[0m\u001b[0;34m.\u001b[0m\u001b[0mitems\u001b[0m\u001b[0;34m(\u001b[0m\u001b[0;34m)\u001b[0m\u001b[0;34m:\u001b[0m\u001b[0;34m\u001b[0m\u001b[0;34m\u001b[0m\u001b[0m\n\u001b[0;32m--> 362\u001b[0;31m                     \u001b[0mcheck_dimension\u001b[0m\u001b[0;34m(\u001b[0m\u001b[0mv\u001b[0m\u001b[0;34m)\u001b[0m\u001b[0;34m\u001b[0m\u001b[0;34m\u001b[0m\u001b[0m\n\u001b[0m\u001b[1;32m    363\u001b[0m         \u001b[0;32melse\u001b[0m\u001b[0;34m:\u001b[0m\u001b[0;34m\u001b[0m\u001b[0;34m\u001b[0m\u001b[0m\n\u001b[1;32m    364\u001b[0m             raise TypeError(\n",
      "\u001b[0;32m~/opt/anaconda3/lib/python3.8/site-packages/skopt/space/space.py\u001b[0m in \u001b[0;36mcheck_dimension\u001b[0;34m(dimension, transform)\u001b[0m\n\u001b[1;32m     89\u001b[0m \u001b[0;34m\u001b[0m\u001b[0m\n\u001b[1;32m     90\u001b[0m     \u001b[0;32mif\u001b[0m \u001b[0;32mnot\u001b[0m \u001b[0misinstance\u001b[0m\u001b[0;34m(\u001b[0m\u001b[0mdimension\u001b[0m\u001b[0;34m,\u001b[0m \u001b[0;34m(\u001b[0m\u001b[0mlist\u001b[0m\u001b[0;34m,\u001b[0m \u001b[0mtuple\u001b[0m\u001b[0;34m,\u001b[0m \u001b[0mnp\u001b[0m\u001b[0;34m.\u001b[0m\u001b[0mndarray\u001b[0m\u001b[0;34m)\u001b[0m\u001b[0;34m)\u001b[0m\u001b[0;34m:\u001b[0m\u001b[0;34m\u001b[0m\u001b[0;34m\u001b[0m\u001b[0m\n\u001b[0;32m---> 91\u001b[0;31m         \u001b[0;32mraise\u001b[0m \u001b[0mValueError\u001b[0m\u001b[0;34m(\u001b[0m\u001b[0;34m\"Dimension has to be a list or tuple.\"\u001b[0m\u001b[0;34m)\u001b[0m\u001b[0;34m\u001b[0m\u001b[0;34m\u001b[0m\u001b[0m\n\u001b[0m\u001b[1;32m     92\u001b[0m \u001b[0;34m\u001b[0m\u001b[0m\n\u001b[1;32m     93\u001b[0m     \u001b[0;31m# A `Dimension` described by a single value is assumed to be\u001b[0m\u001b[0;34m\u001b[0m\u001b[0;34m\u001b[0m\u001b[0;34m\u001b[0m\u001b[0m\n",
      "\u001b[0;31mValueError\u001b[0m: Dimension has to be a list or tuple."
     ]
    }
   ],
   "source": [
    "dtree_bs = BayesSearchCV(estimator = tree_pipe,\n",
    "                         search_spaces= tree_pipe_params,\n",
    "                         scoring = 'f1_weighted',\n",
    "                         n_iter = 50,\n",
    "                         cv = 5,\n",
    "                         optimizer_kwargs = {'base_estimator': 'RF'},\n",
    "                         random_state=42, verbose = 1)"
   ]
  },
  {
   "cell_type": "code",
   "execution_count": null,
   "metadata": {},
   "outputs": [],
   "source": []
  },
  {
   "cell_type": "markdown",
   "metadata": {},
   "source": [
    "## Model 3: Random Forest with BayesSearch"
   ]
  },
  {
   "cell_type": "code",
   "execution_count": 136,
   "metadata": {},
   "outputs": [
    {
     "ename": "TypeError",
     "evalue": "__init__() missing 2 required positional arguments: 'low' and 'high'",
     "output_type": "error",
     "traceback": [
      "\u001b[0;31m---------------------------------------------------------------------------\u001b[0m",
      "\u001b[0;31mTypeError\u001b[0m                                 Traceback (most recent call last)",
      "\u001b[0;32m<ipython-input-136-a864b596e1e9>\u001b[0m in \u001b[0;36m<module>\u001b[0;34m\u001b[0m\n\u001b[1;32m      7\u001b[0m                  \u001b[0;34m'rf__max_depth'\u001b[0m\u001b[0;34m:\u001b[0m \u001b[0mInteger\u001b[0m\u001b[0;34m(\u001b[0m\u001b[0;36m20\u001b[0m\u001b[0;34m,\u001b[0m\u001b[0;36m70\u001b[0m\u001b[0;34m)\u001b[0m\u001b[0;34m,\u001b[0m\u001b[0;34m\u001b[0m\u001b[0;34m\u001b[0m\u001b[0m\n\u001b[1;32m      8\u001b[0m                  \u001b[0;34m'rf__min_samples_split'\u001b[0m\u001b[0;34m:\u001b[0m \u001b[0mInteger\u001b[0m\u001b[0;34m(\u001b[0m\u001b[0;36m2\u001b[0m\u001b[0;34m,\u001b[0m\u001b[0;36m10\u001b[0m\u001b[0;34m)\u001b[0m\u001b[0;34m,\u001b[0m\u001b[0;34m\u001b[0m\u001b[0;34m\u001b[0m\u001b[0m\n\u001b[0;32m----> 9\u001b[0;31m                  \u001b[0;34m'rf__min_samples_leaf'\u001b[0m\u001b[0;34m:\u001b[0m \u001b[0mInteger\u001b[0m\u001b[0;34m(\u001b[0m\u001b[0;34m)\u001b[0m\u001b[0;34m,\u001b[0m\u001b[0;34m\u001b[0m\u001b[0;34m\u001b[0m\u001b[0m\n\u001b[0m\u001b[1;32m     10\u001b[0m                  \u001b[0;34m'rf__ccp_alpha'\u001b[0m\u001b[0;34m:\u001b[0m \u001b[0mReal\u001b[0m\u001b[0;34m(\u001b[0m\u001b[0;34m)\u001b[0m  \u001b[0;31m#from best_params_ model 2a\u001b[0m\u001b[0;34m\u001b[0m\u001b[0;34m\u001b[0m\u001b[0m\n\u001b[1;32m     11\u001b[0m                 }\n",
      "\u001b[0;31mTypeError\u001b[0m: __init__() missing 2 required positional arguments: 'low' and 'high'"
     ]
    }
   ],
   "source": [
    "forest_pipe = Pipeline([\n",
    "    ('cvec', CountVectorizer(stop_words=new_stop, max_df=.95) ),\n",
    "    ('rf', RandomForestClassifier(bootstrap=True) )\n",
    "])\n",
    "\n",
    "forest_params = {'rf__n_estimators': Integer(500,1000),\n",
    "                 'rf__max_depth': Integer(20,70),\n",
    "                 'rf__min_samples_split': Integer(2,10),\n",
    "                 'rf__min_samples_leaf': Integer(2,10),\n",
    "                 'rf__ccp_alpha': Real(.01, 1.0)  #from best_params_ model 2a\n",
    "                }"
   ]
  },
  {
   "cell_type": "code",
   "execution_count": null,
   "metadata": {},
   "outputs": [],
   "source": [
    "forest_bs = BayesSearchCV(estimator = forest_pipe,\n",
    "                         search_spaces = forest_params,\n",
    "                         scoring='f1_weighted',\n",
    "                         n_iter=100,\n",
    "                         cv=5,\n",
    "                         random_state=42, verbose=1)"
   ]
  },
  {
   "cell_type": "code",
   "execution_count": null,
   "metadata": {},
   "outputs": [],
   "source": [
    "h = {'Column Name': df_X_train.columns, 'Feature Importance': forest_bs.best_estimator_.feature_importances}\n",
    "feat_imp = pd.Dataframe(h)"
   ]
  },
  {
   "cell_type": "code",
   "execution_count": null,
   "metadata": {},
   "outputs": [],
   "source": [
    "feat_imp.sort_values(by=['Feature Importance'], ascending=False).head(20)"
   ]
  },
  {
   "cell_type": "code",
   "execution_count": null,
   "metadata": {},
   "outputs": [],
   "source": []
  },
  {
   "cell_type": "code",
   "execution_count": null,
   "metadata": {},
   "outputs": [],
   "source": []
  },
  {
   "cell_type": "code",
   "execution_count": null,
   "metadata": {},
   "outputs": [],
   "source": []
  }
 ],
 "metadata": {
  "kernelspec": {
   "display_name": "Python 3",
   "language": "python",
   "name": "python3"
  }
 },
 "nbformat": 4,
 "nbformat_minor": 4
}
