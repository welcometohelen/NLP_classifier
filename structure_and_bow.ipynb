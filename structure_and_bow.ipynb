{
 "cells": [
  {
   "cell_type": "code",
   "execution_count": 72,
   "metadata": {},
   "outputs": [],
   "source": [
    "import pandas as pd\n",
    "import numpy as np\n",
    "import matplotlib.pyplot as plt\n",
    "import seaborn as sns\n",
    "import nltk\n",
    "from nltk.tokenize import sent_tokenize, word_tokenize, RegexpTokenizer\n",
    "from nltk.stem import WordNetLemmatizer\n",
    "from nltk.stem.porter import PorterStemmer\n",
    "from nltk.corpus import stopwords\n",
    "from nltk.sentiment.vader import SentimentIntensityAnalyzer\n",
    "from sklearn.feature_extraction import text\n",
    "from sklearn.feature_extraction.text import CountVectorizer, TfidfVectorizer\n",
    "from nltk import FreqDist, pos_tag\n",
    "import re\n",
    "\n",
    "from sklearn.naive_bayes import MultinomialNB\n",
    "from sklearn.linear_model import LogisticRegression\n",
    "from sklearn.pipeline import Pipeline\n",
    "\n",
    "import json\n",
    "\n",
    "sns.set_style('darkgrid')"
   ]
  },
  {
   "cell_type": "code",
   "execution_count": 2,
   "metadata": {},
   "outputs": [],
   "source": [
    "with open ('./data/json_pr.json') as x:\n",
    "    prj = json.load(x)\n",
    "    \n",
    "with open ('./data/json_ra.json') as y:\n",
    "    raj = json.load(y)"
   ]
  },
  {
   "cell_type": "code",
   "execution_count": 3,
   "metadata": {},
   "outputs": [],
   "source": [
    "df_prj = pd.DataFrame(prj)\n",
    "df_raj = pd.DataFrame(raj)"
   ]
  },
  {
   "cell_type": "code",
   "execution_count": 4,
   "metadata": {},
   "outputs": [],
   "source": [
    "# #confirm latest dfs: 0 nulls.  confirmed\n",
    "# print(df_prj.isnull().sum())\n",
    "# print(df_raj.isnull().sum())"
   ]
  },
  {
   "cell_type": "markdown",
   "metadata": {},
   "source": [
    "# All posts left in original format, no special character elimination"
   ]
  },
  {
   "cell_type": "markdown",
   "metadata": {},
   "source": [
    "# Structure analysis separate from diction:\n",
    "\n",
    "Number of sentences, sentence length, and *rate* of punctuation use (. , ?) could be informative.  How preserve?  \n",
    "\n",
    "2 separate analyses: nlp based on Bag of Words (0 structure or punctuation retention), and one based on structure.  \n",
    "\n",
    "Word Frequencies (see lesson 5.04) counts *everything* - punctuation, numbers, etc.  But I'd rather use WordFreq, CountVec, etc for lexicon and reduce punctuation down to counts.\n",
    "\n",
    "New columns for total wordcount, # sentences, average sentence length, total commas / ? / ! (which can be changed into per wordcount or per sentence 'rates' later).  "
   ]
  },
  {
   "cell_type": "markdown",
   "metadata": {},
   "source": [
    "### Add column with sentence count\n",
    "Methods based on experimentation in scratch notebook"
   ]
  },
  {
   "cell_type": "code",
   "execution_count": 5,
   "metadata": {},
   "outputs": [],
   "source": [
    "df_prj['num_sentences'] = df_prj['selftext'].map(lambda x: len(re.split(r'[.!?]+', x))-1)\n",
    "df_raj['num_sentences'] = df_raj['selftext'].map(lambda x: len(re.split(r'[.!?]+', x))-1)"
   ]
  },
  {
   "cell_type": "markdown",
   "metadata": {},
   "source": [
    "### Add column with average sentence length (by word)"
   ]
  },
  {
   "cell_type": "code",
   "execution_count": 6,
   "metadata": {},
   "outputs": [
    {
     "data": {
      "text/plain": [
       "28"
      ]
     },
     "execution_count": 6,
     "metadata": {},
     "output_type": "execute_result"
    }
   ],
   "source": [
    "# len counts spaces and characters.  you want wordcount.\n",
    "length = 'this is twenty lettersS..!?,'\n",
    "len(length)"
   ]
  },
  {
   "cell_type": "code",
   "execution_count": 7,
   "metadata": {},
   "outputs": [],
   "source": [
    "#df_raj_mini['words_per_sentence'] = \n",
    "\n",
    "def avg_words_per_sentence(df):\n",
    "    \n",
    "    all_sentences_bypost = []\n",
    "\n",
    "    for i in df['selftext']:\n",
    "        all_sentences_bypost.append(re.split(r'[.!?]+', i))\n",
    "    \n",
    "    avgwordsper = []\n",
    "\n",
    "    for post in all_sentences_bypost:\n",
    "        wordspersentence = []\n",
    "        for i in post:\n",
    "            wordspersentence.append(len(i.split()))\n",
    "        avgwordsper.append(int(np.mean(wordspersentence).round()))\n",
    "        \n",
    "    return avgwordsper"
   ]
  },
  {
   "cell_type": "code",
   "execution_count": 8,
   "metadata": {},
   "outputs": [],
   "source": [
    "df_raj['avg_words_per_sent'] = avg_words_per_sentence(df_raj)\n",
    "df_prj['avg_words_per_sent'] = avg_words_per_sentence(df_prj)"
   ]
  },
  {
   "cell_type": "markdown",
   "metadata": {},
   "source": [
    "### Add columns with total wordcount, commas, ?s, and !s"
   ]
  },
  {
   "cell_type": "code",
   "execution_count": 9,
   "metadata": {},
   "outputs": [],
   "source": [
    "df_raj['wordcount'] = df_raj['selftext'].map(lambda x: len(x.split()))\n",
    "df_prj['wordcount'] = df_prj['selftext'].map(lambda x: len(x.split()))"
   ]
  },
  {
   "cell_type": "code",
   "execution_count": 10,
   "metadata": {},
   "outputs": [],
   "source": [
    "df_raj['comma_count'] = df_raj['selftext'].map(lambda x: x.count(','))\n",
    "df_raj['qmark_count'] = df_raj['selftext'].map(lambda x: x.count('?'))\n",
    "df_raj['exclamatios'] = df_raj['selftext'].map(lambda x: x.count('!'))"
   ]
  },
  {
   "cell_type": "code",
   "execution_count": 11,
   "metadata": {},
   "outputs": [],
   "source": [
    "def count_punc(punc, df):\n",
    "    perpost = []\n",
    "    for i in df['selftext']:\n",
    "        perpost.append(i.count(punc))\n",
    "    return perpost"
   ]
  },
  {
   "cell_type": "code",
   "execution_count": 12,
   "metadata": {},
   "outputs": [],
   "source": [
    "df_prj['comma_count'] = count_punc(',', df_prj)\n",
    "df_prj['qmark_count'] = count_punc('?', df_prj)\n",
    "df_prj['exclamatios'] = count_punc('!', df_prj)"
   ]
  },
  {
   "cell_type": "code",
   "execution_count": 13,
   "metadata": {},
   "outputs": [],
   "source": [
    "## No. Use total comma count, ! count, ? count\n",
    "## Can turn into 'rate' later.  Prob by sentence count, not wordcount...\n",
    "\n",
    "# def punc_rate(punctuation, df):\n",
    "    \n",
    "#     puncs=[]\n",
    "#     punc_rate=[]\n",
    "    \n",
    "#     for i in df['selftext']:\n",
    "#         commas.append(len(re.findall(punctuation, i)))\n",
    "    \n",
    "#     for j in commas:\n",
    "#         comma_rate.append(commas[j]/df['wordcount'][j])\n",
    "        \n",
    "#     return punc_rate"
   ]
  },
  {
   "cell_type": "code",
   "execution_count": 14,
   "metadata": {},
   "outputs": [],
   "source": [
    "# df_raj['comma_rate'] = punc_rate(',', df_raj)\n",
    "# df_prj['comma_rate'] = punc_rate(',', df_prj)"
   ]
  },
  {
   "cell_type": "code",
   "execution_count": 15,
   "metadata": {},
   "outputs": [],
   "source": [
    "#overly complicated just use map + str.count\n",
    "# run into issues with 0s with re.findall I think\n",
    "\n",
    "# def punc_count(punc, df):\n",
    "#     count = []\n",
    "#     for i in df['selftext']:\n",
    "#         count.append(len(re.findall(punc, i)))\n",
    "#     return count"
   ]
  },
  {
   "cell_type": "markdown",
   "metadata": {},
   "source": [
    "### Add column is_mobile to distinguish if posted by mobile user\n",
    "Users generally announce '(on) Mobile\" if they are posting from mobile phones, but there is no consistent format to this announcement.  Sometimes it's a sentence, sometimes a single word declaration.  ID'ing is_mobile by simply searching for the word 'mobile' will also flag posts containing words like 'automobile', 'immobile', 'mobile bank account', etc ('shitmobile' is one I found that I did not expect...).  \n",
    "Spot check 100 posts from each df to get rate of false positives to see if an is_mobile column is informative.\n",
    "\n",
    "---\n",
    "\n",
    "Results from check: \n",
    "* relationship_advice had 10.6% false positives (10 of total 94)\n",
    "* pettyrev had 8% false positive rate (8 of 100 random checks without replacement, total count 395)  \n",
    "\n",
    "##### Assume a fp rate of 9%, still worth identifying.  Pretty consistent fp rate across both dataframes makes it a reliable enough metric.  Concatenate before adding column. "
   ]
  },
  {
   "cell_type": "code",
   "execution_count": 16,
   "metadata": {},
   "outputs": [],
   "source": [
    "#use ctrl-f in jq pretty-print to check if posting from mobile, or talking about mobile homes, etc. \n",
    "df_raj.loc[df_raj['selftext'].str.lower().str.contains('mobile')].to_json('./scratch/is_mobile_ra.json', orient='records')"
   ]
  },
  {
   "cell_type": "code",
   "execution_count": 17,
   "metadata": {},
   "outputs": [
    {
     "data": {
      "text/plain": [
       "(94, 16)"
      ]
     },
     "execution_count": 17,
     "metadata": {},
     "output_type": "execute_result"
    }
   ],
   "source": [
    "# 10/94 records containing 'mobile' NOT posted from mobile user \n",
    "#is_mobile = false positive rate 10.6% for RA\n",
    "df_raj.loc[df_raj['selftext'].str.lower().str.contains('mobile')].shape"
   ]
  },
  {
   "cell_type": "code",
   "execution_count": 18,
   "metadata": {},
   "outputs": [],
   "source": [
    "# repeat for pettyrev.  len = 395.  check first 100.\n",
    "df_prj.loc[df_prj['selftext'].str.lower().str.contains('mobile')].head(100).to_json('./scratch/is_mobile_pr.json', orient='records')"
   ]
  },
  {
   "cell_type": "code",
   "execution_count": 19,
   "metadata": {},
   "outputs": [],
   "source": [
    "combo_structured = pd.concat([df_prj, df_raj], axis = 0, ignore_index=True)"
   ]
  },
  {
   "cell_type": "code",
   "execution_count": 20,
   "metadata": {},
   "outputs": [],
   "source": [
    "combo_structured['is_mobile'] = combo_structured['selftext'].apply(lambda x: 1 if 'mobile' in x.lower() else 0)"
   ]
  },
  {
   "cell_type": "code",
   "execution_count": 21,
   "metadata": {},
   "outputs": [
    {
     "data": {
      "text/plain": [
       "0    11519\n",
       "1      489\n",
       "Name: is_mobile, dtype: int64"
      ]
     },
     "execution_count": 21,
     "metadata": {},
     "output_type": "execute_result"
    }
   ],
   "source": [
    "combo_structured.is_mobile.value_counts()"
   ]
  },
  {
   "cell_type": "markdown",
   "metadata": {},
   "source": [
    "## Special characters to scrub:\n",
    "* **all URLs:  start with https://...** \n",
    "* characters with alphanum attached: I think remove these whole units first (or the attached text), otherwise left with 'n', 'amp', 'u username', etc that won't be picked up by subsequent alphanum filter?\n",
    "    * ' & amp ;\n",
    "    * \\n\n",
    "    * u/username\n",
    "    * (Mobile)\n",
    "        * edit: leave mobile in place, could be differentiating feature between subreddits\n",
    "        * edit 2: no matter if scrub or not, already have column indicating is_mobile\n",
    "* all non-alpha-numerics: \\, /, &, * , \"\", '', -\n",
    "* emojis \n",
    "* I don't think numbers will be informative\n",
    "* stopwords='english' : word freq table for petty revenge showed top words were all stopwords.  Not informative."
   ]
  },
  {
   "cell_type": "code",
   "execution_count": 22,
   "metadata": {},
   "outputs": [],
   "source": [
    "combo_structured['mod_selftext'] = combo_structured['selftext']"
   ]
  },
  {
   "cell_type": "code",
   "execution_count": 23,
   "metadata": {},
   "outputs": [],
   "source": [
    "#start with urls so you don't accidentally turn them into text by ditching identifying characters\n",
    "combo_structured['mod_selftext'] = combo_structured['mod_selftext'].apply(lambda x: re.sub(r'http\\S+', '', x))"
   ]
  },
  {
   "cell_type": "code",
   "execution_count": 24,
   "metadata": {},
   "outputs": [],
   "source": [
    "# word_tokenizer drops many special characters but keeps 'amp' from &amp;\n",
    "# drop that unit specifically first:\n",
    "combo_structured['mod_selftext'] = combo_structured['mod_selftext'].apply(lambda x: x.replace('&amp;',''))\n",
    "#also apostrophes: just merge into one word (don't -> dont)\n",
    "combo_structured['mod_selftext'] = combo_structured['mod_selftext'].apply(lambda x: x.replace(\"'\",''))"
   ]
  },
  {
   "cell_type": "code",
   "execution_count": 25,
   "metadata": {},
   "outputs": [
    {
     "data": {
      "text/plain": [
       "'couldve wouldve dont Im isnt'"
      ]
     },
     "execution_count": 25,
     "metadata": {},
     "output_type": "execute_result"
    }
   ],
   "source": [
    "test = \"could've would've don't I'm isn't\"\n",
    "test.replace(\"'\",'')"
   ]
  },
  {
   "cell_type": "code",
   "execution_count": 26,
   "metadata": {},
   "outputs": [],
   "source": [
    "#word_tokenize then return only alpha characters re-joined in original order\n",
    "#NUMBERS removed\n",
    "#special characters removed\n",
    "tokenizer = RegexpTokenizer(r'\\w+')"
   ]
  },
  {
   "cell_type": "code",
   "execution_count": 27,
   "metadata": {},
   "outputs": [],
   "source": [
    "combo_structured['mod_selftext'] = combo_structured['mod_selftext'].apply(lambda x: ' '.join([i for i in tokenizer.tokenize(x.lower()) if i.isascii() and i.isalpha()]))"
   ]
  },
  {
   "cell_type": "code",
   "execution_count": 28,
   "metadata": {},
   "outputs": [],
   "source": [
    "lemmatizer = WordNetLemmatizer()\n",
    "combo_structured['lem_selftext'] = combo_structured['mod_selftext'].apply(lambda x: ' '.join([lemmatizer.lemmatize(i) for i in x.split()]))"
   ]
  },
  {
   "cell_type": "code",
   "execution_count": 29,
   "metadata": {},
   "outputs": [],
   "source": [
    "#export csv and json versions\n",
    "combo_structured.to_csv('./data/allposts_struc.csv', index=False)\n",
    "combo_structured.to_json('./data/j_allposts_struc.json', orient='records')"
   ]
  },
  {
   "cell_type": "markdown",
   "metadata": {},
   "source": [
    "### EDA on Word Counts\n",
    "Bagowords['mod_selftext] is pre-processed for Vectorizing: numbers and special characters are removed, everything is lowercase, URLs removed.  \n",
    "Remove stopwords during vectorization.\n",
    "\n",
    "---\n",
    "\n",
    "Ran with non-lemmatized and lemmatized posts.  Lemmatization reduced columns of cvec features by 5,000.  Work with lemmatized data for 'parsimony'. Ha."
   ]
  },
  {
   "cell_type": "code",
   "execution_count": 30,
   "metadata": {},
   "outputs": [],
   "source": [
    "cvec = CountVectorizer(stop_words = 'english')\n",
    "allposts_cvec = cvec.fit_transform(combo_structured['mod_selftext'])"
   ]
  },
  {
   "cell_type": "code",
   "execution_count": 31,
   "metadata": {},
   "outputs": [],
   "source": [
    "df_allposts_cvec = pd.DataFrame(allposts_cvec.todense(), columns=cvec.get_feature_names())"
   ]
  },
  {
   "cell_type": "code",
   "execution_count": 32,
   "metadata": {},
   "outputs": [
    {
     "data": {
      "text/plain": [
       "(12008, 38669)"
      ]
     },
     "execution_count": 32,
     "metadata": {},
     "output_type": "execute_result"
    }
   ],
   "source": [
    "df_allposts_cvec.shape #38_669 columns"
   ]
  },
  {
   "cell_type": "code",
   "execution_count": 33,
   "metadata": {},
   "outputs": [
    {
     "data": {
      "image/png": "[encoded data removed]",
      "text/plain": [
       "<Figure size 720x576 with 1 Axes>"
      ]
     },
     "metadata": {},
     "output_type": "display_data"
    }
   ],
   "source": [
    "plt.figure(figsize=(10,8))\n",
    "df_allposts_cvec.sum().sort_values(ascending=True).tail(20).plot(kind='barh')\n",
    "plt.yticks(fontsize=16)\n",
    "plt.title('20 Most Common Words - all posts', size=16);"
   ]
  },
  {
   "cell_type": "markdown",
   "metadata": {},
   "source": [
    "#### Compare against lemmatized posts"
   ]
  },
  {
   "cell_type": "code",
   "execution_count": 60,
   "metadata": {},
   "outputs": [],
   "source": [
    "lemstop = WordNetLemmatizer()\n",
    "lemmatized_stopwords = [lemstop.lemmatize(i) for i in stopwords.words('english')]\n",
    "# lemmatized_stopwords"
   ]
  },
  {
   "cell_type": "code",
   "execution_count": 59,
   "metadata": {},
   "outputs": [
    {
     "data": {
      "text/plain": [
       "[('its', 'it'), ('was', 'wa'), ('has', 'ha'), ('does', 'doe'), ('as', 'a')]"
      ]
     },
     "execution_count": 59,
     "metadata": {},
     "output_type": "execute_result"
    }
   ],
   "source": [
    "#lists look v. similar. any differences?\n",
    "#running with just lemmatized_stopwords somehow increases columns\n",
    "compare_lemmatized = list(zip(stopwords.words('english'), lemmatized_stopwords))\n",
    "[i for i in compare_lemmatized if i[0] != i[1]]"
   ]
  },
  {
   "cell_type": "code",
   "execution_count": 74,
   "metadata": {},
   "outputs": [],
   "source": [
    "#custom stopwords: 'english', + unique lems + 'im' bc it's on initial plot and I don't like it\n",
    "my_words = ['wa', 'ha', 'doe', 'a', 'im']\n",
    "custom_stop = text.ENGLISH_STOP_WORDS.union(my_words)"
   ]
  },
  {
   "cell_type": "code",
   "execution_count": 75,
   "metadata": {},
   "outputs": [],
   "source": [
    "lem_cvec = CountVectorizer(stop_words=custom_stop)\n",
    "lem_allposts_cvec = lem_cvec.fit_transform(combo_structured['lem_selftext'])"
   ]
  },
  {
   "cell_type": "code",
   "execution_count": 76,
   "metadata": {},
   "outputs": [],
   "source": [
    "df_lemcvec = pd.DataFrame(lem_allposts_cvec.todense(), columns=lem_cvec.get_feature_names())"
   ]
  },
  {
   "cell_type": "code",
   "execution_count": 77,
   "metadata": {},
   "outputs": [
    {
     "data": {
      "text/plain": [
       "(12008, 33671)"
      ]
     },
     "execution_count": 77,
     "metadata": {},
     "output_type": "execute_result"
    }
   ],
   "source": [
    "df_lemcvec.shape #33_671 columns = 4998 fewer columns than non-lem --> use this"
   ]
  },
  {
   "cell_type": "code",
   "execution_count": 78,
   "metadata": {},
   "outputs": [
    {
     "data": {
      "image/png": "[encoded data removed]",
      "text/plain": [
       "<Figure size 720x576 with 1 Axes>"
      ]
     },
     "metadata": {},
     "output_type": "display_data"
    }
   ],
   "source": [
    "plt.figure(figsize=(10,8))\n",
    "df_lemcvec.sum().sort_values(ascending=True).tail(20).plot(kind='barh')\n",
    "plt.yticks(fontsize=16)\n",
    "plt.title('20 Most Common Words - all posts - lemmatized', size=16);"
   ]
  },
  {
   "cell_type": "code",
   "execution_count": 89,
   "metadata": {
    "scrolled": true
   },
   "outputs": [],
   "source": [
    "#subsets timing out...\n",
    "\n",
    "# by_sub = pd.concat([df_lemcvec, combo_structured['subreddit']], axis=1)\n",
    "# pettyrev = by_sub[by_sub['subreddit']=='pettyrevenge']\n",
    "# relatadvice = by_sub[by_sub['subreddit']=='relationship_advice']"
   ]
  },
  {
   "cell_type": "code",
   "execution_count": null,
   "metadata": {},
   "outputs": [],
   "source": [
    "# #subplot of top20 by subreddit - causing issues\n",
    "# fig, ax = plt.subplots(1,2, figsize=(15,8))\n",
    "# fig.suptitle('Top 20 words by subreddit')\n",
    "# sns.barplot(ax = ax[0], x=pettyrev.drop(columns='subreddit').\n",
    "#             sum().sort_values(ascending=True).tail(20)\n"
   ]
  },
  {
   "cell_type": "markdown",
   "metadata": {},
   "source": [
    "## 34,000 columns = too many\n",
    "Tune with hyperparams, but do that via randomsearch in Modeling notebook."
   ]
  },
  {
   "cell_type": "code",
   "execution_count": null,
   "metadata": {},
   "outputs": [],
   "source": [
    "lem_cvec = CountVectorizer(stop_words=custom_stop, min_df=.05, max_df=.98)\n",
    "lem_allposts_cvec = lem_cvec.fit_transform(combo_structured['lem_selftext'])"
   ]
  },
  {
   "cell_type": "code",
   "execution_count": null,
   "metadata": {},
   "outputs": [],
   "source": []
  },
  {
   "cell_type": "code",
   "execution_count": 38,
   "metadata": {},
   "outputs": [],
   "source": [
    "cols_to_merge = list(combo_structured.drop(columns=['is_self', 'selftext', 'mod_selftext','score', 'created_utc']).columns)\n"
   ]
  },
  {
   "cell_type": "code",
   "execution_count": 39,
   "metadata": {},
   "outputs": [],
   "source": [
    "struc_and_bow = pd.concat([df_lemcvec, combo_structured[cols_to_merge]], axis=1)"
   ]
  },
  {
   "cell_type": "code",
   "execution_count": 40,
   "metadata": {},
   "outputs": [],
   "source": [
    "%%time\n",
    "plt.figure(figsize=(10,8))\n",
    "plt.title('Pettyrevenge: most common words', size=16)\n",
    "struc_and_bow[struc_and_bow['subreddit']=='pettyrevenge'][lem_cvec.get_feature_names()].sum().sort_values(ascending=True).tail(20).plot(kind='barh')"
   ]
  },
  {
   "cell_type": "code",
   "execution_count": 41,
   "metadata": {},
   "outputs": [],
   "source": [
    "%%time\n",
    "plt.figure(figsize=(10,8))\n",
    "plt.title('Relationship_advice: most common words', size=16)\n",
    "struc_and_bow[struc_and_bow['subreddit']=='relationship_advice'][lem_cvec.get_feature_names()].sum().sort_values(ascending=True).tail(20).plot(kind='barh')"
   ]
  },
  {
   "cell_type": "code",
   "execution_count": 87,
   "metadata": {},
   "outputs": [
    {
     "data": {
      "text/plain": [
       "(12008, 33671)"
      ]
     },
     "execution_count": 87,
     "metadata": {},
     "output_type": "execute_result"
    }
   ],
   "source": [
    "df_lemcvec.shape"
   ]
  },
  {
   "cell_type": "code",
   "execution_count": null,
   "metadata": {},
   "outputs": [],
   "source": []
  },
  {
   "cell_type": "code",
   "execution_count": null,
   "metadata": {},
   "outputs": [],
   "source": []
  },
  {
   "cell_type": "code",
   "execution_count": null,
   "metadata": {},
   "outputs": [],
   "source": []
  },
  {
   "cell_type": "code",
   "execution_count": null,
   "metadata": {},
   "outputs": [],
   "source": []
  },
  {
   "cell_type": "code",
   "execution_count": null,
   "metadata": {},
   "outputs": [],
   "source": []
  },
  {
   "cell_type": "code",
   "execution_count": null,
   "metadata": {},
   "outputs": [],
   "source": []
  },
  {
   "cell_type": "code",
   "execution_count": 42,
   "metadata": {},
   "outputs": [],
   "source": [
    "# %%time\n",
    "# NOOOO this split all text up into letters. Dumb, and took suspiciously long time.\n",
    "    # didn't word_tokenize x, so 'i' = letter\n",
    "# just remove stopwords in countvec, not in column/s\n",
    "# leaving in place so you DON'T DO THIS AGAIN\n",
    "\n",
    "# combo_structured['selftext'] = combo_structured['selftext'].apply(lambda x: [i for i in x if i not in stopwords.words('english')])\n",
    "\n",
    "# #check results in jq pretty print\n",
    "# combo_structured.to_json('./scratch/check_selftext_b.json', orient='records')"
   ]
  },
  {
   "cell_type": "markdown",
   "metadata": {},
   "source": [
    "##### Word frequency function from lesson 5.04"
   ]
  },
  {
   "cell_type": "code",
   "execution_count": 43,
   "metadata": {},
   "outputs": [],
   "source": [
    "# def freq_table(text, count=None):\n",
    "\n",
    "#     freqs = FreqDist(text).most_common()\n",
    "#     prob = [round(x[1]/len(text),4) for x in freqs]\n",
    "\n",
    "#     freq = zip(freqs,prob)\n",
    "\n",
    "#     comp_freqs = []\n",
    "#     for s,p in freq:\n",
    "#         comp_freqs.append([s[0],s[1],p])\n",
    "\n",
    "#     comp_freqs.sort(key=lambda tup: tup[1], reverse=True) #Sort the list so it's in order, big to small\n",
    "\n",
    "#     if count == None:\n",
    "#         most = comp_freqs[:26]    \n",
    "#         hapax = comp_freqs[:-25:-1]\n",
    "#     else:\n",
    "#         most = comp_freqs[:count + 1]\n",
    "#         hapax = comp_freqs[:-count:-1]\n",
    "\n",
    "#     print('Most Common \\t\\t  Least Common')\n",
    "\n",
    "#     for i in zip(most, hapax):\n",
    "#         print(i[0], \" \"*(24-len(str(i[0]))),i[1])"
   ]
  },
  {
   "cell_type": "code",
   "execution_count": 44,
   "metadata": {},
   "outputs": [
    {
     "data": {
      "text/plain": [
       "relationship_advice    6095\n",
       "pettyrevenge           5913\n",
       "Name: subreddit, dtype: int64"
      ]
     },
     "execution_count": 44,
     "metadata": {},
     "output_type": "execute_result"
    }
   ],
   "source": [
    "# combo_structured.subreddit.value_counts()"
   ]
  },
  {
   "cell_type": "code",
   "execution_count": 45,
   "metadata": {},
   "outputs": [],
   "source": [
    "# pettyrev_post_corpus = combo_structured[combo_structured['subreddit']=='pettyrevenge']['mod_selftext']\n",
    "# radvice_post_corpus = combo_structured[combo_structured['subreddit']=='relationship_advice']['mod_selftext']"
   ]
  },
  {
   "cell_type": "code",
   "execution_count": 46,
   "metadata": {},
   "outputs": [],
   "source": [
    "# testset = combo_structured[0:10]"
   ]
  },
  {
   "cell_type": "code",
   "execution_count": 47,
   "metadata": {},
   "outputs": [],
   "source": [
    "# ts_post_corpus= testset[combo_structured['subreddit']=='pettyrevenge']['mod_selftext']\n",
    "# ts_post_corpus"
   ]
  },
  {
   "cell_type": "code",
   "execution_count": 48,
   "metadata": {},
   "outputs": [],
   "source": [
    "# ts_word_corpus = [i.split() for i in ts_post_corpus]"
   ]
  },
  {
   "cell_type": "code",
   "execution_count": 49,
   "metadata": {},
   "outputs": [],
   "source": [
    "# len(ts_word_corpus)"
   ]
  },
  {
   "cell_type": "code",
   "execution_count": null,
   "metadata": {},
   "outputs": [],
   "source": []
  },
  {
   "cell_type": "code",
   "execution_count": 50,
   "metadata": {},
   "outputs": [],
   "source": [
    "# pettyrev_word_corpus\n",
    "# radvice_word_corpus "
   ]
  }
 ],
 "metadata": {
  "kernelspec": {
   "display_name": "Python 3",
   "language": "python",
   "name": "python3"
  },
  "language_info": {
   "codemirror_mode": {
    "name": "ipython",
    "version": 3
   },
   "file_extension": ".py",
   "mimetype": "text/x-python",
   "name": "python",
   "nbconvert_exporter": "python",
   "pygments_lexer": "ipython3",
   "version": "3.8.5"
  }
 },
 "nbformat": 4,
 "nbformat_minor": 4
}
