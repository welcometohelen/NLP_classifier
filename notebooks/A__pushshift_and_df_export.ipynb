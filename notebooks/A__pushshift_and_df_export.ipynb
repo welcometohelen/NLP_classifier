{
 "cells": [
  {
   "cell_type": "code",
   "execution_count": 1,
   "metadata": {},
   "outputs": [],
   "source": [
    "import pandas as pd\n",
    "import datetime as dt\n",
    "import time\n",
    "import requests\n"
   ]
  },
  {
   "cell_type": "markdown",
   "metadata": {},
   "source": [
    "# Pushshift and cleaning"
   ]
  },
  {
   "cell_type": "markdown",
   "metadata": {},
   "source": [
    "#### Takeaways from prelim testing:\n",
    "* Can only get 100 posts per prequest (lit says 500)\n",
    "* 77% of posts from pettyrevenge were selftext:'removed' , can filter during request\n",
    "* ettyrevenge NO UNDERSCORE\n",
    "* relationship_advice is way more active, make sure to sample from similar date ranges (so not all 7,000 r_a posts are from 2021 while pr crosses years - diction evolves).\n",
    "    * pettyrevenge: 100 posts from 3/30-4/23 = 24 days\n",
    "    * relat_adv can get 100 per day, but set day_window same as pettyrevenge\n",
    "    \n",
    "---\n",
    "\n",
    "Exporting to csv (familiar) and json (not).  Jennifer recommended jq prettyprint and it may be useful format when checking on actual text form.\n",
    "\n",
    "---\n",
    "\n",
    "Cleaning in this notebook:\n",
    "* worked filtering of 'removed' posts into for loop\n",
    "* created timestampe from utc in for loop (code from class review)\n",
    "    * this project has taught me I ALWAYS type timestampe with a final E like ye olde timestampe what the heck.\n",
    "* dropping 'deleted' and is_self=False\n",
    "* confirming date distrib is equivalent\n",
    "* pulling out 'year' from timestamp (ended up dropping later, but felt like a good idea...)"
   ]
  },
  {
   "cell_type": "markdown",
   "metadata": {},
   "source": [
    "Features to retain from each post\n",
    "* **selftext**  --->  actual text\n",
    "* **subreddit**  --->  target\n",
    "* created_utc\n",
    "* is_self  ---> can filter by is_self==True during scraping but all were True during test pulls\n",
    "* score (upvotes, popularity metric; not necessarily up to date)\n",
    "* title\n",
    "* author\n",
    "* num_comments"
   ]
  },
  {
   "cell_type": "code",
   "execution_count": 1,
   "metadata": {},
   "outputs": [],
   "source": [
    "retain = ['selftext', 'subreddit', 'created_utc', 'is_self', 'score', 'title', 'author', 'num_comments']"
   ]
  },
  {
   "cell_type": "code",
   "execution_count": 112,
   "metadata": {},
   "outputs": [],
   "source": [
    "def pushshift_go(subreddit, day_window, n):\n",
    "    base = 'https://api.pushshift.io/reddit/search/submission'\n",
    "    \n",
    "    retain = ['selftext', 'subreddit', 'created_utc', 'is_self', 'score', 'title', 'author', 'num_comments']\n",
    "\n",
    "    posts = []\n",
    "    \n",
    "    for i in range(1, n+1):\n",
    "\n",
    "        params = {\n",
    "        'subreddit' : subreddit,\n",
    "        'size' : 100,\n",
    "        'selftext:not' : '[removed]',\n",
    "        'after': '{}d'.format(day_window*i) #after = searching forward, dupes will be deleted\n",
    "        }\n",
    "        res = requests.get(base, params)\n",
    "        \n",
    "        try:\n",
    "            assert res.status_code == 200\n",
    "            df = pd.DataFrame(res.json()['data'])[retain]\n",
    "            posts.append(df)\n",
    "            time.sleep(3)\n",
    "        except: \n",
    "            print(f'Error: Status Code: {res.status_code}') #try-except ala Amanda\n",
    "\n",
    "        #from class demo:\n",
    "        total_scraped = sum(len(x) for x in posts)\n",
    "        print(total_scraped)\n",
    "        if total_scraped>7000:\n",
    "            break\n",
    "\n",
    "\n",
    "    alldata = pd.concat(posts, sort=False)\n",
    "    alldata.drop_duplicates(inplace=True)\n",
    "    alldata['timestamp'] = alldata['created_utc'].map(dt.date.fromtimestamp)  # from Gwen class\n",
    "    \n",
    "    print(\"Query Complete\") #from class, how polite :)\n",
    "    \n",
    "    return alldata.reset_index(drop=True)"
   ]
  },
  {
   "cell_type": "code",
   "execution_count": 2,
   "metadata": {},
   "outputs": [],
   "source": [
    "# %%time   #45min\n",
    "# pr3 = pushshift_go('pettyrevenge', 25, 70)"
   ]
  },
  {
   "cell_type": "code",
   "execution_count": 54,
   "metadata": {},
   "outputs": [
    {
     "data": {
      "text/plain": [
       "6592"
      ]
     },
     "execution_count": 54,
     "metadata": {},
     "output_type": "execute_result"
    }
   ],
   "source": [
    "len(pr3)"
   ]
  },
  {
   "cell_type": "code",
   "execution_count": 74,
   "metadata": {},
   "outputs": [
    {
     "data": {
      "text/html": [
       "<div>\n",
       "<style scoped>\n",
       "    .dataframe tbody tr th:only-of-type {\n",
       "        vertical-align: middle;\n",
       "    }\n",
       "\n",
       "    .dataframe tbody tr th {\n",
       "        vertical-align: top;\n",
       "    }\n",
       "\n",
       "    .dataframe thead th {\n",
       "        text-align: right;\n",
       "    }\n",
       "</style>\n",
       "<table border=\"1\" class=\"dataframe\">\n",
       "  <thead>\n",
       "    <tr style=\"text-align: right;\">\n",
       "      <th></th>\n",
       "      <th>selftext</th>\n",
       "      <th>subreddit</th>\n",
       "      <th>created_utc</th>\n",
       "      <th>is_self</th>\n",
       "      <th>score</th>\n",
       "      <th>title</th>\n",
       "      <th>author</th>\n",
       "      <th>num_comments</th>\n",
       "      <th>timestamp</th>\n",
       "      <th>year</th>\n",
       "    </tr>\n",
       "  </thead>\n",
       "  <tbody>\n",
       "    <tr>\n",
       "      <th>6492</th>\n",
       "      <td>This one's short and sweet.\\n\\nA long time ago...</td>\n",
       "      <td>pettyrevenge</td>\n",
       "      <td>1468039320</td>\n",
       "      <td>True</td>\n",
       "      <td>1333</td>\n",
       "      <td>Waste my time, I waste yours.</td>\n",
       "      <td>trampabroad</td>\n",
       "      <td>26</td>\n",
       "      <td>2016-07-08</td>\n",
       "      <td>2016</td>\n",
       "    </tr>\n",
       "    <tr>\n",
       "      <th>6493</th>\n",
       "      <td>https://imgur.com/gallery/PGl2D</td>\n",
       "      <td>pettyrevenge</td>\n",
       "      <td>1468041094</td>\n",
       "      <td>True</td>\n",
       "      <td>30</td>\n",
       "      <td>Found this on Instagram, thought you guys migh...</td>\n",
       "      <td>Spontaneous_Mullet</td>\n",
       "      <td>13</td>\n",
       "      <td>2016-07-08</td>\n",
       "      <td>2016</td>\n",
       "    </tr>\n",
       "    <tr>\n",
       "      <th>6494</th>\n",
       "      <td>[deleted]</td>\n",
       "      <td>pettyrevenge</td>\n",
       "      <td>1468072482</td>\n",
       "      <td>True</td>\n",
       "      <td>0</td>\n",
       "      <td>Really? Steal *my* office? Okay, dothead....</td>\n",
       "      <td>[deleted]</td>\n",
       "      <td>6</td>\n",
       "      <td>2016-07-09</td>\n",
       "      <td>2016</td>\n",
       "    </tr>\n",
       "    <tr>\n",
       "      <th>6495</th>\n",
       "      <td>So I am sleeping on this Saturday morning (pro...</td>\n",
       "      <td>pettyrevenge</td>\n",
       "      <td>1468080947</td>\n",
       "      <td>True</td>\n",
       "      <td>339</td>\n",
       "      <td>Happily sleeping and the phone rings</td>\n",
       "      <td>harssk</td>\n",
       "      <td>49</td>\n",
       "      <td>2016-07-09</td>\n",
       "      <td>2016</td>\n",
       "    </tr>\n",
       "    <tr>\n",
       "      <th>6496</th>\n",
       "      <td>[deleted]</td>\n",
       "      <td>pettyrevenge</td>\n",
       "      <td>1468087635</td>\n",
       "      <td>True</td>\n",
       "      <td>131</td>\n",
       "      <td>Bad driver gets what's coming</td>\n",
       "      <td>[deleted]</td>\n",
       "      <td>19</td>\n",
       "      <td>2016-07-09</td>\n",
       "      <td>2016</td>\n",
       "    </tr>\n",
       "  </tbody>\n",
       "</table>\n",
       "</div>"
      ],
      "text/plain": [
       "                                               selftext     subreddit  \\\n",
       "6492  This one's short and sweet.\\n\\nA long time ago...  pettyrevenge   \n",
       "6493                    https://imgur.com/gallery/PGl2D  pettyrevenge   \n",
       "6494                                          [deleted]  pettyrevenge   \n",
       "6495  So I am sleeping on this Saturday morning (pro...  pettyrevenge   \n",
       "6496                                          [deleted]  pettyrevenge   \n",
       "\n",
       "      created_utc  is_self  score  \\\n",
       "6492   1468039320     True   1333   \n",
       "6493   1468041094     True     30   \n",
       "6494   1468072482     True      0   \n",
       "6495   1468080947     True    339   \n",
       "6496   1468087635     True    131   \n",
       "\n",
       "                                                  title              author  \\\n",
       "6492                      Waste my time, I waste yours.         trampabroad   \n",
       "6493  Found this on Instagram, thought you guys migh...  Spontaneous_Mullet   \n",
       "6494       Really? Steal *my* office? Okay, dothead....           [deleted]   \n",
       "6495               Happily sleeping and the phone rings              harssk   \n",
       "6496                      Bad driver gets what's coming           [deleted]   \n",
       "\n",
       "      num_comments   timestamp  year  \n",
       "6492            26  2016-07-08  2016  \n",
       "6493            13  2016-07-08  2016  \n",
       "6494             6  2016-07-09  2016  \n",
       "6495            49  2016-07-09  2016  \n",
       "6496            19  2016-07-09  2016  "
      ]
     },
     "execution_count": 74,
     "metadata": {},
     "output_type": "execute_result"
    }
   ],
   "source": [
    "pr3['year'] = pd.DatetimeIndex(pr3['timestamp']).year\n",
    "pr3.sort_values('created_utc').head() #len 6592, earliest 2016-07-08, latest 2021-04-23"
   ]
  },
  {
   "cell_type": "code",
   "execution_count": 77,
   "metadata": {},
   "outputs": [
    {
     "data": {
      "text/plain": [
       "2020    0.222694\n",
       "2019    0.222239\n",
       "2017    0.220874\n",
       "2018    0.185983\n",
       "2016    0.086924\n",
       "2021    0.061286\n",
       "Name: year, dtype: float64"
      ]
     },
     "execution_count": 77,
     "metadata": {},
     "output_type": "execute_result"
    }
   ],
   "source": [
    "pr3.year.value_counts(normalize=True)  "
   ]
  },
  {
   "cell_type": "code",
   "execution_count": 120,
   "metadata": {},
   "outputs": [
    {
     "data": {
      "text/plain": [
       "True     6590\n",
       "False       2\n",
       "Name: is_self, dtype: int64"
      ]
     },
     "execution_count": 120,
     "metadata": {},
     "output_type": "execute_result"
    }
   ],
   "source": [
    "pr3.is_self.value_counts()"
   ]
  },
  {
   "cell_type": "markdown",
   "metadata": {},
   "source": [
    "#### Remove 'is_self' == False (2), and any selftexts that were 'deleted' (~300)"
   ]
  },
  {
   "cell_type": "code",
   "execution_count": 121,
   "metadata": {},
   "outputs": [],
   "source": [
    "pr3 = pr3[pr3['is_self']==True]"
   ]
  },
  {
   "cell_type": "code",
   "execution_count": 122,
   "metadata": {},
   "outputs": [
    {
     "data": {
      "text/plain": [
       "True    6590\n",
       "Name: is_self, dtype: int64"
      ]
     },
     "execution_count": 122,
     "metadata": {},
     "output_type": "execute_result"
    }
   ],
   "source": [
    "pr3.is_self.value_counts()"
   ]
  },
  {
   "cell_type": "code",
   "execution_count": 135,
   "metadata": {},
   "outputs": [],
   "source": [
    "pr3 = pr3[pr3['selftext']!='[deleted]']"
   ]
  },
  {
   "cell_type": "code",
   "execution_count": 136,
   "metadata": {},
   "outputs": [],
   "source": [
    "pr3.to_csv('../data/pettyrev.csv', index=False)"
   ]
  },
  {
   "cell_type": "code",
   "execution_count": 137,
   "metadata": {},
   "outputs": [],
   "source": [
    "pr3.to_json('../data/json_pr.json', orient='records')"
   ]
  },
  {
   "cell_type": "markdown",
   "metadata": {},
   "source": [
    "## On to Relationship_advice"
   ]
  },
  {
   "cell_type": "code",
   "execution_count": 3,
   "metadata": {},
   "outputs": [],
   "source": [
    "# %%time   # 7min\n",
    "# ra1 = pushshift_go('relationship_advice', 25, 70)"
   ]
  },
  {
   "cell_type": "code",
   "execution_count": 118,
   "metadata": {
    "scrolled": true
   },
   "outputs": [
    {
     "name": "stdout",
     "output_type": "stream",
     "text": [
      "7000\n"
     ]
    },
    {
     "data": {
      "text/html": [
       "<div>\n",
       "<style scoped>\n",
       "    .dataframe tbody tr th:only-of-type {\n",
       "        vertical-align: middle;\n",
       "    }\n",
       "\n",
       "    .dataframe tbody tr th {\n",
       "        vertical-align: top;\n",
       "    }\n",
       "\n",
       "    .dataframe thead th {\n",
       "        text-align: right;\n",
       "    }\n",
       "</style>\n",
       "<table border=\"1\" class=\"dataframe\">\n",
       "  <thead>\n",
       "    <tr style=\"text-align: right;\">\n",
       "      <th></th>\n",
       "      <th>selftext</th>\n",
       "      <th>subreddit</th>\n",
       "      <th>created_utc</th>\n",
       "      <th>is_self</th>\n",
       "      <th>score</th>\n",
       "      <th>title</th>\n",
       "      <th>author</th>\n",
       "      <th>num_comments</th>\n",
       "      <th>timestamp</th>\n",
       "      <th>year</th>\n",
       "    </tr>\n",
       "  </thead>\n",
       "  <tbody>\n",
       "    <tr>\n",
       "      <th>0</th>\n",
       "      <td>We’re not like publicly dating but we get down...</td>\n",
       "      <td>relationship_advice</td>\n",
       "      <td>1617083162</td>\n",
       "      <td>True</td>\n",
       "      <td>1</td>\n",
       "      <td>Desperately need help with my stepsister</td>\n",
       "      <td>BananaForScale69420</td>\n",
       "      <td>7</td>\n",
       "      <td>2021-03-29</td>\n",
       "      <td>2021</td>\n",
       "    </tr>\n",
       "    <tr>\n",
       "      <th>1</th>\n",
       "      <td>How should I tell my partner who plays games o...</td>\n",
       "      <td>relationship_advice</td>\n",
       "      <td>1617083390</td>\n",
       "      <td>True</td>\n",
       "      <td>1</td>\n",
       "      <td>How should I?</td>\n",
       "      <td>user_9012021</td>\n",
       "      <td>3</td>\n",
       "      <td>2021-03-29</td>\n",
       "      <td>2021</td>\n",
       "    </tr>\n",
       "    <tr>\n",
       "      <th>2</th>\n",
       "      <td>I found out on Saturday that my grandfather ha...</td>\n",
       "      <td>relationship_advice</td>\n",
       "      <td>1617083473</td>\n",
       "      <td>True</td>\n",
       "      <td>1</td>\n",
       "      <td>I don’t want to go into work.</td>\n",
       "      <td>pastabake101</td>\n",
       "      <td>10</td>\n",
       "      <td>2021-03-29</td>\n",
       "      <td>2021</td>\n",
       "    </tr>\n",
       "    <tr>\n",
       "      <th>3</th>\n",
       "      <td>So my girlfriends friend told me that i remind...</td>\n",
       "      <td>relationship_advice</td>\n",
       "      <td>1617083711</td>\n",
       "      <td>True</td>\n",
       "      <td>1</td>\n",
       "      <td>Advice please</td>\n",
       "      <td>RevolutionaryAD21</td>\n",
       "      <td>5</td>\n",
       "      <td>2021-03-29</td>\n",
       "      <td>2021</td>\n",
       "    </tr>\n",
       "    <tr>\n",
       "      <th>4</th>\n",
       "      <td>ThrowRA\\nMy boyfriend(17M) and I(17F) had a ta...</td>\n",
       "      <td>relationship_advice</td>\n",
       "      <td>1617083749</td>\n",
       "      <td>True</td>\n",
       "      <td>1</td>\n",
       "      <td>How do I remember changes I want to make?</td>\n",
       "      <td>Bubbly-Appointment74</td>\n",
       "      <td>7</td>\n",
       "      <td>2021-03-29</td>\n",
       "      <td>2021</td>\n",
       "    </tr>\n",
       "  </tbody>\n",
       "</table>\n",
       "</div>"
      ],
      "text/plain": [
       "                                            selftext            subreddit  \\\n",
       "0  We’re not like publicly dating but we get down...  relationship_advice   \n",
       "1  How should I tell my partner who plays games o...  relationship_advice   \n",
       "2  I found out on Saturday that my grandfather ha...  relationship_advice   \n",
       "3  So my girlfriends friend told me that i remind...  relationship_advice   \n",
       "4  ThrowRA\\nMy boyfriend(17M) and I(17F) had a ta...  relationship_advice   \n",
       "\n",
       "   created_utc  is_self  score                                      title  \\\n",
       "0   1617083162     True      1   Desperately need help with my stepsister   \n",
       "1   1617083390     True      1                              How should I?   \n",
       "2   1617083473     True      1              I don’t want to go into work.   \n",
       "3   1617083711     True      1                              Advice please   \n",
       "4   1617083749     True      1  How do I remember changes I want to make?   \n",
       "\n",
       "                 author  num_comments   timestamp  year  \n",
       "0   BananaForScale69420             7  2021-03-29  2021  \n",
       "1          user_9012021             3  2021-03-29  2021  \n",
       "2          pastabake101            10  2021-03-29  2021  \n",
       "3     RevolutionaryAD21             5  2021-03-29  2021  \n",
       "4  Bubbly-Appointment74             7  2021-03-29  2021  "
      ]
     },
     "execution_count": 118,
     "metadata": {},
     "output_type": "execute_result"
    }
   ],
   "source": [
    "ra1['year'] = pd.DatetimeIndex((ra1['timestamp'])).year\n",
    "print(len(ra1))\n",
    "ra1.head()"
   ]
  },
  {
   "cell_type": "code",
   "execution_count": 117,
   "metadata": {
    "scrolled": false
   },
   "outputs": [
    {
     "data": {
      "text/plain": [
       "year\n",
       "2020    1500\n",
       "2018    1500\n",
       "2019    1400\n",
       "2017    1400\n",
       "2016     800\n",
       "2021     400\n",
       "dtype: int64"
      ]
     },
     "execution_count": 117,
     "metadata": {},
     "output_type": "execute_result"
    }
   ],
   "source": [
    "ra1.value_counts('year')"
   ]
  },
  {
   "cell_type": "code",
   "execution_count": 119,
   "metadata": {},
   "outputs": [
    {
     "data": {
      "text/plain": [
       "True     6980\n",
       "False      20\n",
       "Name: is_self, dtype: int64"
      ]
     },
     "execution_count": 119,
     "metadata": {},
     "output_type": "execute_result"
    }
   ],
   "source": [
    "ra1.is_self.value_counts()"
   ]
  },
  {
   "cell_type": "markdown",
   "metadata": {},
   "source": [
    "#### Remove is_self==False (20), and any 'deleted' posts (833)"
   ]
  },
  {
   "cell_type": "code",
   "execution_count": 123,
   "metadata": {},
   "outputs": [],
   "source": [
    "ra1 = ra1[ra1['is_self']==True]"
   ]
  },
  {
   "cell_type": "code",
   "execution_count": 124,
   "metadata": {},
   "outputs": [
    {
     "data": {
      "text/plain": [
       "True    6980\n",
       "Name: is_self, dtype: int64"
      ]
     },
     "execution_count": 124,
     "metadata": {},
     "output_type": "execute_result"
    }
   ],
   "source": [
    "ra1.is_self.value_counts()"
   ]
  },
  {
   "cell_type": "code",
   "execution_count": 140,
   "metadata": {},
   "outputs": [],
   "source": [
    "ra1 = ra1[ra1.selftext!='[deleted]']"
   ]
  },
  {
   "cell_type": "code",
   "execution_count": 145,
   "metadata": {},
   "outputs": [
    {
     "data": {
      "text/plain": [
       "(6147, 10)"
      ]
     },
     "execution_count": 145,
     "metadata": {},
     "output_type": "execute_result"
    }
   ],
   "source": [
    "ra1.shape\n",
    "# ra1.loc[ra1.selftext=='[deleted]']  #confirmed"
   ]
  },
  {
   "cell_type": "code",
   "execution_count": 146,
   "metadata": {},
   "outputs": [],
   "source": [
    "ra1.to_csv('../data/relatadv.csv', index=False)"
   ]
  },
  {
   "cell_type": "code",
   "execution_count": 147,
   "metadata": {},
   "outputs": [],
   "source": [
    "ra1.to_json('../data/json_ra.json', orient='records')"
   ]
  }
 ],
 "metadata": {
  "kernelspec": {
   "display_name": "Python 3",
   "language": "python",
   "name": "python3"
  },
  "language_info": {
   "codemirror_mode": {
    "name": "ipython",
    "version": 3
   },
   "file_extension": ".py",
   "mimetype": "text/x-python",
   "name": "python",
   "nbconvert_exporter": "python",
   "pygments_lexer": "ipython3",
   "version": "3.8.5"
  }
 },
 "nbformat": 4,
 "nbformat_minor": 4
}
