{
 "cells": [
  {
   "cell_type": "code",
   "execution_count": 84,
   "metadata": {},
   "outputs": [],
   "source": [
    "import pandas as pd\n",
    "import numpy as np\n",
    "import matplotlib.pyplot as plt\n",
    "import seaborn as sns\n",
    "import nltk\n",
    "from scipy.stats import randint\n",
    "\n",
    "from nltk.corpus import stopwords\n",
    "from sklearn.feature_extraction import text\n",
    "from sklearn.feature_extraction.text import CountVectorizer, TfidfVectorizer\n",
    "from sklearn.preprocessing import StandardScaler\n",
    "\n",
    "\n",
    "\n",
    "from sklearn.naive_bayes import MultinomialNB\n",
    "from sklearn.linear_model import LogisticRegression\n",
    "from sklearn.pipeline import Pipeline\n",
    "from sklearn.metrics import confusion_matrix, plot_confusion_matrix, r2_score, precision_score, f1_score, recall_score, accuracy_score\n",
    "from sklearn.model_selection import train_test_split, RandomizedSearchCV\n",
    "from skopt import BayesSearchCV\n",
    "from skopt.space import Integer, Real, Categorical\n",
    "from sklearn.tree import DecisionTreeClassifier, plot_tree, export_text\n",
    "from sklearn.ensemble import RandomForestClassifier, ExtraTreesClassifier\n",
    "from sklearn.svm import SVC\n",
    "\n",
    "from scipy.stats import uniform, loguniform\n",
    "\n",
    "import pickle\n"
   ]
  },
  {
   "cell_type": "code",
   "execution_count": 85,
   "metadata": {},
   "outputs": [],
   "source": [
    "## The following run in Terminal to facilitate BayesSearchCV\n",
    "# pip install --force-reinstall \"scikit-learn==0.23.2\""
   ]
  },
  {
   "cell_type": "code",
   "execution_count": 86,
   "metadata": {},
   "outputs": [],
   "source": [
    "data_raw = pd.read_csv('../data/allposts_struc.csv')\n",
    "data_vecd = pd.read_csv('../data/merged_with_bigrams.csv')"
   ]
  },
  {
   "cell_type": "code",
   "execution_count": 87,
   "metadata": {},
   "outputs": [],
   "source": [
    "#remove extra index column that made it into data_vecd\n",
    "data_vecd.drop(columns='index', inplace=True)\n",
    "data_raw.drop(columns='index', inplace=True)"
   ]
  },
  {
   "cell_type": "code",
   "execution_count": 88,
   "metadata": {},
   "outputs": [
    {
     "data": {
      "text/plain": [
       "lem_selftext    0\n",
       "timestamp       0\n",
       "subreddit       0\n",
       "created_utc     0\n",
       "is_self         0\n",
       "dtype: int64"
      ]
     },
     "execution_count": 88,
     "metadata": {},
     "output_type": "execute_result"
    }
   ],
   "source": [
    "data_raw.isnull().sum().sort_values(ascending=False).head()"
   ]
  },
  {
   "cell_type": "code",
   "execution_count": 89,
   "metadata": {},
   "outputs": [
    {
     "data": {
      "text/plain": [
       "relationship_advice    0.50775\n",
       "pettyrevenge           0.49225\n",
       "Name: subreddit, dtype: float64"
      ]
     },
     "execution_count": 89,
     "metadata": {},
     "output_type": "execute_result"
    }
   ],
   "source": [
    "#baseline accuracy\n",
    "data_vecd.subreddit.value_counts(normalize=True)"
   ]
  },
  {
   "cell_type": "code",
   "execution_count": 90,
   "metadata": {},
   "outputs": [],
   "source": [
    "data_vecd['subreddit'] = data_vecd['subreddit'].apply(lambda x: 0 if x=='pettyrevenge' else 1)\n",
    "data_raw['subreddit'] = data_raw['subreddit'].apply(lambda x: 0 if x=='pettyrevenge' else 1)"
   ]
  },
  {
   "cell_type": "code",
   "execution_count": 91,
   "metadata": {},
   "outputs": [
    {
     "data": {
      "text/plain": [
       "1    0.50775\n",
       "0    0.49225\n",
       "Name: subreddit, dtype: float64"
      ]
     },
     "execution_count": 91,
     "metadata": {},
     "output_type": "execute_result"
    }
   ],
   "source": [
    "data_raw.subreddit.value_counts(normalize=True)"
   ]
  },
  {
   "cell_type": "markdown",
   "metadata": {},
   "source": [
    "# Modeling"
   ]
  },
  {
   "cell_type": "code",
   "execution_count": 92,
   "metadata": {},
   "outputs": [],
   "source": [
    "#custom stopwords: 'english', + unique lems + 'im' just because\n",
    "my_words = ['wa', 'ha', 'doe', 'a', 'im']\n",
    "custom_stop = text.ENGLISH_STOP_WORDS.union(my_words)"
   ]
  },
  {
   "cell_type": "code",
   "execution_count": 93,
   "metadata": {},
   "outputs": [],
   "source": [
    "#hand to calc scores manually because forgot to numify target before fitting first model...\n",
    "def see_scores(model, X_test, y_test):\n",
    "    preds = model.predict(X_test)\n",
    "    tn, fp, fn, tp = confusion_matrix(y_test, preds).ravel()\n",
    "    print(confusion_matrix(y_test, preds))\n",
    "    \n",
    "    print(f'\\nAccuracy: {accuracy_score(y_test, preds).round(6)}')\n",
    "    print(f'\\nSensitivity: {(tp/(tp+fn)).round(6)}')\n",
    "    print(f'\\nPrecision: {tp/(tp+fp).round(6)}')\n",
    "    print(f'\\nSpecificity: {(tn/(tn+fp)).round(6)}')\n",
    "    print(f'\\nF1: {tp/(tp + 0.5*(fp + fn)).round(6)}')\n",
    "    \n",
    "    plot_confusion_matrix(model, X_test, y_test)\n",
    "    "
   ]
  },
  {
   "cell_type": "markdown",
   "metadata": {},
   "source": [
    "# Model 0: DecisionTree with 0 hyperparams\n",
    "This was just to get a picture of how the tree was making decisions before pursuing more finetuned dtree and random forest models; and then I'd use that to guide BayesSearchCV params.  It scored suspiciously high. Printing the tree text revealed that the source of success in Models 1 and 2 is likely due to key words _relationship_ and _revenge_.  As such, I will include the title words of both subreddits in the stopwords for all subsequent models.\n",
    "\n",
    "---\n",
    "\n",
    "First fit already vectorized data (concatenated 1-gram and bigrams) with no params - will be overfit, but use to guide ranges in BayesSearchCV.  Takeaways:\n",
    "* add title words to stopwords ('relationship', 'advice', 'petty', 'revenge')\n",
    "* max branch depth was 71, then 48, 38, 25.  Lower branch depth to reduce overfitting.\n",
    "    * to achieve purity (leaf=1)\n",
    "    \n",
    "---\n",
    "Edit: Abandoning Decision Tree.  \n",
    "By running RandomSearch over subsets of my data (10%), test scores across all metrics topped out around 80% with best_parameters.  I intended to move stepwise from Decision Tree to bootstrapped options, but since these scores are significantly lower than the Multinomial Bayes standard (presented below), I will move on instead of investing full-data-fit-time here.  Immediately below is the initial fit (on all data) with 0 hyperparam adjustment.  RandomSearch experiments on subsetted data were performed in separate notebook. "
   ]
  },
  {
   "cell_type": "code",
   "execution_count": 94,
   "metadata": {},
   "outputs": [],
   "source": [
    "X0=data_vecd.drop(columns=['author','num_comments','timestamp','num_sentences','avg_words_per_sent', 'wordcount','comma_count','qmark_count', 'exclamatios','is_mobile','subreddit'])\n",
    "y0=data_vecd['subreddit']\n",
    "X0_train, X0_test, y0_train, y0_test = train_test_split(X0, y0, random_state=42, test_size=.33)"
   ]
  },
  {
   "cell_type": "code",
   "execution_count": 95,
   "metadata": {},
   "outputs": [
    {
     "data": {
      "text/plain": [
       "DecisionTreeClassifier(random_state=42)"
      ]
     },
     "execution_count": 95,
     "metadata": {},
     "output_type": "execute_result"
    }
   ],
   "source": [
    "dt0 = DecisionTreeClassifier(random_state=42)\n",
    "dt0.fit(X0_train, y0_train)"
   ]
  },
  {
   "cell_type": "code",
   "execution_count": 96,
   "metadata": {},
   "outputs": [
    {
     "data": {
      "text/plain": [
       "(1.0, 0.8772727272727273)"
      ]
     },
     "execution_count": 96,
     "metadata": {},
     "output_type": "execute_result"
    }
   ],
   "source": [
    "dt0.score(X0_train, y0_train), dt0.score(X0_test, y0_test)"
   ]
  },
  {
   "cell_type": "code",
   "execution_count": 97,
   "metadata": {},
   "outputs": [],
   "source": [
    "## 'Relationship' (#1), 'advice', 'petty', and 'revenge' all in top 10 nodes.  \n",
    "## Should've seen that coming.\n",
    "## adjust stopwords\n",
    "#print(export_text(dt0, list(X0_train.columns)))"
   ]
  },
  {
   "cell_type": "code",
   "execution_count": 98,
   "metadata": {},
   "outputs": [
    {
     "name": "stdout",
     "output_type": "stream",
     "text": [
      "[[1708  273]\n",
      " [ 213 1766]]\n",
      "\n",
      "Accuracy: 0.877273\n",
      "\n",
      "Sensitivity: 0.89237\n",
      "\n",
      "Precision: 0.8661108386463953\n",
      "\n",
      "Specificity: 0.862191\n",
      "\n",
      "F1: 0.879044300647088\n"
     ]
    },
    {
     "data": {
      "image/png": "[encoded data removed]",
      "text/plain": [
       "<Figure size 432x288 with 2 Axes>"
      ]
     },
     "metadata": {
      "needs_background": "light"
     },
     "output_type": "display_data"
    }
   ],
   "source": [
    "see_scores(dt0, X0_test, y0_test)"
   ]
  },
  {
   "cell_type": "markdown",
   "metadata": {},
   "source": [
    "# Model 1: MNB with updated stopwords informed by Model 0\n",
    "And a couple other tweaks to hone in on the ideal values from in first pipeline best_params."
   ]
  },
  {
   "cell_type": "code",
   "execution_count": 99,
   "metadata": {},
   "outputs": [],
   "source": [
    "#update\n",
    "my_words = ['wa', 'ha', 'doe', 'a', 'im', 'relationship', 'advice','petty','revenge']\n",
    "new_stop = text.ENGLISH_STOP_WORDS.union(my_words)"
   ]
  },
  {
   "cell_type": "code",
   "execution_count": 100,
   "metadata": {},
   "outputs": [],
   "source": [
    "X = data_raw['lem_selftext']\n",
    "y=data_raw['subreddit']\n",
    "X_train, X_test, y_train, y_test = train_test_split(X, y, random_state=42, test_size=.33)"
   ]
  },
  {
   "cell_type": "code",
   "execution_count": 101,
   "metadata": {},
   "outputs": [],
   "source": [
    "pipe_b = Pipeline([\n",
    "    ('cvec', CountVectorizer(stop_words=new_stop) ),\n",
    "    ('mnb', MultinomialNB() ),\n",
    "])\n",
    "\n",
    "pipe_b_params = {\n",
    "    'cvec__max_features': randint(6000,10000), #updated and expanded since more limiting stopwords\n",
    "    'cvec__min_df': uniform(.001, .05),\n",
    "    'cvec__max_df': uniform(.95, 1.), #updated to range, not discrete\n",
    "    'cvec__ngram_range': [(1,3), (2,4)], #updated\n",
    "    'mnb__alpha': uniform(.001,1)   # updated                   \n",
    "}"
   ]
  },
  {
   "cell_type": "code",
   "execution_count": 102,
   "metadata": {},
   "outputs": [],
   "source": [
    "b_vec_mnb = RandomizedSearchCV(estimator = pipe_b, \n",
    "                                param_distributions=pipe_b_params, \n",
    "                                scoring = 'f1_weighted',\n",
    "                                random_state=42,\n",
    "                                n_iter=1000,\n",
    "                                cv=5,\n",
    "                                n_jobs=-1, verbose=1)"
   ]
  },
  {
   "cell_type": "code",
   "execution_count": 103,
   "metadata": {},
   "outputs": [],
   "source": [
    "# %%time\n",
    "# b_vec_mnb.fit(X_train, y_train)"
   ]
  },
  {
   "cell_type": "code",
   "execution_count": 52,
   "metadata": {},
   "outputs": [],
   "source": [
    "pkl_b_vec_mnb = '../models/vec_mnb2.pkl'"
   ]
  },
  {
   "cell_type": "code",
   "execution_count": 122,
   "metadata": {},
   "outputs": [],
   "source": [
    "# with open (pkl_b_vec_mnb, 'wb') as file:\n",
    "#     pickle.dump(b_vec_mnb, file)"
   ]
  },
  {
   "cell_type": "code",
   "execution_count": 104,
   "metadata": {},
   "outputs": [],
   "source": [
    "with open(pkl_b_vec_mnb, 'rb') as file:\n",
    "    mnb2_pickle = pickle.load(file)"
   ]
  },
  {
   "cell_type": "code",
   "execution_count": 54,
   "metadata": {},
   "outputs": [
    {
     "data": {
      "text/plain": [
       "{'cvec__max_df': 1.0018357991197289,\n",
       " 'cvec__max_features': 6112,\n",
       " 'cvec__min_df': 0.0019897829173627195,\n",
       " 'cvec__ngram_range': (1, 3),\n",
       " 'mnb__alpha': 0.3077765995221412}"
      ]
     },
     "execution_count": 54,
     "metadata": {},
     "output_type": "execute_result"
    }
   ],
   "source": [
    "mnb2_pickle.best_params_"
   ]
  },
  {
   "cell_type": "code",
   "execution_count": 55,
   "metadata": {},
   "outputs": [
    {
     "data": {
      "text/plain": [
       "(0.963179184532175, 0.9575753030725069)"
      ]
     },
     "execution_count": 55,
     "metadata": {},
     "output_type": "execute_result"
    }
   ],
   "source": [
    "mnb2_pickle.score(X_train, y_train), mnb2_pickle.score(X_test, y_test)"
   ]
  },
  {
   "cell_type": "code",
   "execution_count": 56,
   "metadata": {},
   "outputs": [
    {
     "data": {
      "text/plain": [
       "{'cvec__max_df': 1.0018357991197289,\n",
       " 'cvec__max_features': 6112,\n",
       " 'cvec__min_df': 0.0019897829173627195,\n",
       " 'cvec__ngram_range': (1, 3),\n",
       " 'mnb__alpha': 0.3077765995221412}"
      ]
     },
     "execution_count": 56,
     "metadata": {},
     "output_type": "execute_result"
    }
   ],
   "source": [
    "mnb2_pickle.best_params_  #cvec_max_df > 1 bc misunderstanding of loguniform(loc, scale) input"
   ]
  },
  {
   "cell_type": "code",
   "execution_count": 57,
   "metadata": {},
   "outputs": [
    {
     "name": "stdout",
     "output_type": "stream",
     "text": [
      "[[1890   91]\n",
      " [  77 1902]]\n",
      "\n",
      "Accuracy: 0.957576\n",
      "\n",
      "Sensitivity: 0.961091\n",
      "\n",
      "Precision: 0.9543401906673357\n",
      "\n",
      "Specificity: 0.954064\n",
      "\n",
      "F1: 0.9577039274924471\n"
     ]
    },
    {
     "data": {
      "image/png": "[encoded data removed]",
      "text/plain": [
       "<Figure size 432x288 with 2 Axes>"
      ]
     },
     "metadata": {
      "needs_background": "light"
     },
     "output_type": "display_data"
    }
   ],
   "source": [
    "#see_scores(b_vec_mnb, X_test, y_test)\n",
    "see_scores(mnb2_pickle, X_test, y_test)"
   ]
  },
  {
   "cell_type": "code",
   "execution_count": 58,
   "metadata": {},
   "outputs": [],
   "source": [
    "coefs_df = pd.DataFrame(zip(mnb2_pickle.best_estimator_.named_steps['cvec'].get_feature_names(), \n",
    "                 mnb2_pickle.best_estimator_.named_steps['mnb'].coef_[0])).rename(columns={\n",
    "    0:'word', 1:'coef'\n",
    "}).sort_values('coef',ascending=False)"
   ]
  },
  {
   "cell_type": "code",
   "execution_count": 61,
   "metadata": {},
   "outputs": [
    {
     "data": {
      "text/html": [
       "<div>\n",
       "<style scoped>\n",
       "    .dataframe tbody tr th:only-of-type {\n",
       "        vertical-align: middle;\n",
       "    }\n",
       "\n",
       "    .dataframe tbody tr th {\n",
       "        vertical-align: top;\n",
       "    }\n",
       "\n",
       "    .dataframe thead th {\n",
       "        text-align: right;\n",
       "    }\n",
       "</style>\n",
       "<table border=\"1\" class=\"dataframe\">\n",
       "  <thead>\n",
       "    <tr style=\"text-align: right;\">\n",
       "      <th></th>\n",
       "      <th>word</th>\n",
       "      <th>coef</th>\n",
       "    </tr>\n",
       "  </thead>\n",
       "  <tbody>\n",
       "    <tr>\n",
       "      <th>2667</th>\n",
       "      <td>just</td>\n",
       "      <td>-4.191152</td>\n",
       "    </tr>\n",
       "    <tr>\n",
       "      <th>3013</th>\n",
       "      <td>like</td>\n",
       "      <td>-4.224197</td>\n",
       "    </tr>\n",
       "    <tr>\n",
       "      <th>5347</th>\n",
       "      <td>time</td>\n",
       "      <td>-4.456228</td>\n",
       "    </tr>\n",
       "    <tr>\n",
       "      <th>5761</th>\n",
       "      <td>want</td>\n",
       "      <td>-4.513946</td>\n",
       "    </tr>\n",
       "    <tr>\n",
       "      <th>2823</th>\n",
       "      <td>know</td>\n",
       "      <td>-4.540410</td>\n",
       "    </tr>\n",
       "    <tr>\n",
       "      <th>1879</th>\n",
       "      <td>friend</td>\n",
       "      <td>-4.599262</td>\n",
       "    </tr>\n",
       "    <tr>\n",
       "      <th>1705</th>\n",
       "      <td>feel</td>\n",
       "      <td>-4.684960</td>\n",
       "    </tr>\n",
       "    <tr>\n",
       "      <th>4132</th>\n",
       "      <td>really</td>\n",
       "      <td>-4.752871</td>\n",
       "    </tr>\n",
       "    <tr>\n",
       "      <th>5244</th>\n",
       "      <td>thing</td>\n",
       "      <td>-4.812882</td>\n",
       "    </tr>\n",
       "    <tr>\n",
       "      <th>6044</th>\n",
       "      <td>year</td>\n",
       "      <td>-4.829528</td>\n",
       "    </tr>\n",
       "    <tr>\n",
       "      <th>3697</th>\n",
       "      <td>packet</td>\n",
       "      <td>-14.412674</td>\n",
       "    </tr>\n",
       "    <tr>\n",
       "      <th>5524</th>\n",
       "      <td>tower</td>\n",
       "      <td>-14.412674</td>\n",
       "    </tr>\n",
       "    <tr>\n",
       "      <th>3355</th>\n",
       "      <td>merge</td>\n",
       "      <td>-14.412674</td>\n",
       "    </tr>\n",
       "    <tr>\n",
       "      <th>5482</th>\n",
       "      <td>told teacher</td>\n",
       "      <td>-14.412674</td>\n",
       "    </tr>\n",
       "    <tr>\n",
       "      <th>5161</th>\n",
       "      <td>teacher told</td>\n",
       "      <td>-14.412674</td>\n",
       "    </tr>\n",
       "    <tr>\n",
       "      <th>2637</th>\n",
       "      <td>jar</td>\n",
       "      <td>-14.412674</td>\n",
       "    </tr>\n",
       "    <tr>\n",
       "      <th>1512</th>\n",
       "      <td>emptied</td>\n",
       "      <td>-14.412674</td>\n",
       "    </tr>\n",
       "    <tr>\n",
       "      <th>1645</th>\n",
       "      <td>face priceless</td>\n",
       "      <td>-14.412674</td>\n",
       "    </tr>\n",
       "    <tr>\n",
       "      <th>3295</th>\n",
       "      <td>mandatory</td>\n",
       "      <td>-14.412674</td>\n",
       "    </tr>\n",
       "    <tr>\n",
       "      <th>3225</th>\n",
       "      <td>ltl ftp</td>\n",
       "      <td>-14.412674</td>\n",
       "    </tr>\n",
       "  </tbody>\n",
       "</table>\n",
       "</div>"
      ],
      "text/plain": [
       "                word       coef\n",
       "2667            just  -4.191152\n",
       "3013            like  -4.224197\n",
       "5347            time  -4.456228\n",
       "5761            want  -4.513946\n",
       "2823            know  -4.540410\n",
       "1879          friend  -4.599262\n",
       "1705            feel  -4.684960\n",
       "4132          really  -4.752871\n",
       "5244           thing  -4.812882\n",
       "6044            year  -4.829528\n",
       "3697          packet -14.412674\n",
       "5524           tower -14.412674\n",
       "3355           merge -14.412674\n",
       "5482    told teacher -14.412674\n",
       "5161    teacher told -14.412674\n",
       "2637             jar -14.412674\n",
       "1512         emptied -14.412674\n",
       "1645  face priceless -14.412674\n",
       "3295       mandatory -14.412674\n",
       "3225         ltl ftp -14.412674"
      ]
     },
     "execution_count": 61,
     "metadata": {},
     "output_type": "execute_result"
    }
   ],
   "source": [
    "coefs_df.sort_values('coef',ascending=False).head(10).append(coefs_df.sort_values('coef',ascending=False).tail(10))"
   ]
  },
  {
   "cell_type": "code",
   "execution_count": 71,
   "metadata": {},
   "outputs": [
    {
     "data": {
      "text/plain": [
       "<sklearn.metrics._plot.confusion_matrix.ConfusionMatrixDisplay at 0x7fec9c6ba730>"
      ]
     },
     "execution_count": 71,
     "metadata": {},
     "output_type": "execute_result"
    },
    {
     "data": {
      "image/png": "[encoded data removed]",
      "text/plain": [
       "<Figure size 432x288 with 2 Axes>"
      ]
     },
     "metadata": {
      "needs_background": "light"
     },
     "output_type": "display_data"
    }
   ],
   "source": [
    "#better colors for presentation\n",
    "plot_confusion_matrix(mnb2_pickle, X_test, y_test, cmap='Blues')"
   ]
  },
  {
   "cell_type": "markdown",
   "metadata": {},
   "source": [
    "# Model 2: SVC + TF-IDF\n",
    "Hyperparameters searched in this full-data fit are centered around results from subset testing.  I also tested TfidfVectorizer vs. CountVec in subset experimentation.  Tfidf won."
   ]
  },
  {
   "cell_type": "code",
   "execution_count": 105,
   "metadata": {},
   "outputs": [],
   "source": [
    "svctf_pipe = Pipeline([\n",
    "    ('tf', TfidfVectorizer(stop_words=new_stop, ngram_range=(1,3)) ),\n",
    "    ('svc', SVC(kernel='sigmoid', random_state=42) ) #sigmoid from subset best params\n",
    "])\n",
    "\n",
    "svctf_params = {\n",
    "    'tf__max_features': randint(4000,7000),\n",
    "    'tf__min_df': uniform(.001, .03), # = range .001-.051\n",
    "    'tf__max_df': uniform(loc=.90, scale=.07), #uniform is a boobytrap\n",
    "    #loc = starting val, scale = upwards range.  this translates to .93-.98\n",
    "    \n",
    "    'svc__degree': randint(2,5),\n",
    "    'svc__C': loguniform(1e-1, 1e+2) #this works intuitively: start, stop vals\n",
    "}"
   ]
  },
  {
   "cell_type": "code",
   "execution_count": 106,
   "metadata": {},
   "outputs": [],
   "source": [
    "svctf_rs = RandomizedSearchCV(estimator = svctf_pipe,\n",
    "                         param_distributions= svctf_params,\n",
    "                         scoring = 'f1_weighted',\n",
    "                         n_iter = 1000,\n",
    "                         cv = 5,\n",
    "                         n_jobs=-1,\n",
    "                         random_state=42, verbose = 1)"
   ]
  },
  {
   "cell_type": "code",
   "execution_count": 20,
   "metadata": {
    "collapsed": true
   },
   "outputs": [
    {
     "name": "stdout",
     "output_type": "stream",
     "text": [
      "Fitting 5 folds for each of 1000 candidates, totalling 5000 fits\n"
     ]
    },
    {
     "name": "stderr",
     "output_type": "stream",
     "text": [
      "[Parallel(n_jobs=-1)]: Using backend LokyBackend with 8 concurrent workers.\n",
      "/Users/helenmeigs/opt/anaconda3/lib/python3.8/site-packages/joblib/externals/loky/process_executor.py:688: UserWarning: A worker stopped while some jobs were given to the executor. This can be caused by a too short worker timeout or by a memory leak.\n",
      "  warnings.warn(\n",
      "[Parallel(n_jobs=-1)]: Done  34 tasks      | elapsed:  1.6min\n",
      "[Parallel(n_jobs=-1)]: Done 184 tasks      | elapsed:  7.8min\n",
      "[Parallel(n_jobs=-1)]: Done 434 tasks      | elapsed: 19.2min\n",
      "[Parallel(n_jobs=-1)]: Done 784 tasks      | elapsed: 35.4min\n",
      "[Parallel(n_jobs=-1)]: Done 1234 tasks      | elapsed: 56.9min\n",
      "[Parallel(n_jobs=-1)]: Done 1784 tasks      | elapsed: 87.3min\n",
      "[Parallel(n_jobs=-1)]: Done 2434 tasks      | elapsed: 124.3min\n",
      "[Parallel(n_jobs=-1)]: Done 3184 tasks      | elapsed: 163.6min\n",
      "[Parallel(n_jobs=-1)]: Done 4034 tasks      | elapsed: 201.9min\n",
      "[Parallel(n_jobs=-1)]: Done 4984 tasks      | elapsed: 245.2min\n",
      "[Parallel(n_jobs=-1)]: Done 5000 out of 5000 | elapsed: 245.9min finished\n"
     ]
    },
    {
     "name": "stdout",
     "output_type": "stream",
     "text": [
      "CPU times: user 1min 34s, sys: 2min 59s, total: 4min 34s\n",
      "Wall time: 4h 6min 12s\n"
     ]
    },
    {
     "data": {
      "text/plain": [
       "RandomizedSearchCV(cv=5,\n",
       "                   estimator=Pipeline(steps=[('tf',\n",
       "                                              TfidfVectorizer(ngram_range=(1,\n",
       "                                                                           3),\n",
       "                                                              stop_words=frozenset({'a',\n",
       "                                                                                    'about',\n",
       "                                                                                    'above',\n",
       "                                                                                    'across',\n",
       "                                                                                    'advice',\n",
       "                                                                                    'after',\n",
       "                                                                                    'afterwards',\n",
       "                                                                                    'again',\n",
       "                                                                                    'against',\n",
       "                                                                                    'all',\n",
       "                                                                                    'almost',\n",
       "                                                                                    'alone',\n",
       "                                                                                    'along',\n",
       "                                                                                    'already',\n",
       "                                                                                    'also',\n",
       "                                                                                    'although',\n",
       "                                                                                    'always',\n",
       "                                                                                    'am',\n",
       "                                                                                    'among',\n",
       "                                                                                    'amongst',\n",
       "                                                                                    'amoungst',\n",
       "                                                                                    'amount',\n",
       "                                                                                    'an',\n",
       "                                                                                    'and',\n",
       "                                                                                    'another',\n",
       "                                                                                    'any',\n",
       "                                                                                    'anyhow',\n",
       "                                                                                    'anyone',\n",
       "                                                                                    'anyt...\n",
       "                                        'svc__degree': <scipy.stats._distn_infrastructure.rv_frozen object at 0x7feca860a550>,\n",
       "                                        'tf__max_df': <scipy.stats._distn_infrastructure.rv_frozen object at 0x7feca860a190>,\n",
       "                                        'tf__max_features': <scipy.stats._distn_infrastructure.rv_frozen object at 0x7fec99310f40>,\n",
       "                                        'tf__min_df': <scipy.stats._distn_infrastructure.rv_frozen object at 0x7feca860a130>},\n",
       "                   random_state=42, scoring='f1_weighted', verbose=1)"
      ]
     },
     "execution_count": 20,
     "metadata": {},
     "output_type": "execute_result"
    }
   ],
   "source": [
    "%%time\n",
    "svctf_rs.fit(X_train, y_train)"
   ]
  },
  {
   "cell_type": "code",
   "execution_count": 23,
   "metadata": {},
   "outputs": [],
   "source": [
    "pkl_svctf = '../models/svctf.pkl'"
   ]
  },
  {
   "cell_type": "code",
   "execution_count": 24,
   "metadata": {},
   "outputs": [],
   "source": [
    "# with open (pkl_svctf, 'wb') as file:\n",
    "#     pickle.dump(svctf_rs, file)"
   ]
  },
  {
   "cell_type": "code",
   "execution_count": 25,
   "metadata": {},
   "outputs": [],
   "source": [
    "with open(pkl_svctf, 'rb') as file:\n",
    "    svctf_rs = pickle.load(file)"
   ]
  },
  {
   "cell_type": "code",
   "execution_count": 26,
   "metadata": {},
   "outputs": [
    {
     "name": "stdout",
     "output_type": "stream",
     "text": [
      "[[1906   75]\n",
      " [  82 1897]]\n",
      "\n",
      "Accuracy: 0.960354\n",
      "\n",
      "Sensitivity: 0.958565\n",
      "\n",
      "Precision: 0.9619675456389453\n",
      "\n",
      "Specificity: 0.96214\n",
      "\n",
      "F1: 0.9602632245001266\n"
     ]
    },
    {
     "data": {
      "image/png": "[encoded data removed]",
      "text/plain": [
       "<Figure size 432x288 with 2 Axes>"
      ]
     },
     "metadata": {
      "needs_background": "light"
     },
     "output_type": "display_data"
    }
   ],
   "source": [
    "see_scores(svctf_rs, X_test, y_test)"
   ]
  },
  {
   "cell_type": "code",
   "execution_count": 49,
   "metadata": {},
   "outputs": [
    {
     "data": {
      "text/plain": [
       "{'svc__C': 0.6309945235509472,\n",
       " 'svc__degree': 2,\n",
       " 'tf__max_df': 0.9324866611617453,\n",
       " 'tf__max_features': 4739,\n",
       " 'tf__min_df': 0.0022497045514804728}"
      ]
     },
     "execution_count": 49,
     "metadata": {},
     "output_type": "execute_result"
    }
   ],
   "source": [
    "svctf_rs.best_params_"
   ]
  },
  {
   "cell_type": "code",
   "execution_count": 50,
   "metadata": {},
   "outputs": [
    {
     "data": {
      "text/plain": [
       "(0.9756228096597498, 0.9603533760751343)"
      ]
     },
     "execution_count": 50,
     "metadata": {},
     "output_type": "execute_result"
    }
   ],
   "source": [
    "svctf_rs.score(X_train, y_train), svctf_rs.score(X_test, y_test)"
   ]
  },
  {
   "cell_type": "code",
   "execution_count": 74,
   "metadata": {},
   "outputs": [
    {
     "data": {
      "text/plain": [
       "Pipeline(steps=[('tf',\n",
       "                 TfidfVectorizer(max_df=0.9324866611617453, max_features=4739,\n",
       "                                 min_df=0.0022497045514804728,\n",
       "                                 ngram_range=(1, 3),\n",
       "                                 stop_words=frozenset({'a', 'about', 'above',\n",
       "                                                       'across', 'advice',\n",
       "                                                       'after', 'afterwards',\n",
       "                                                       'again', 'against',\n",
       "                                                       'all', 'almost', 'alone',\n",
       "                                                       'along', 'already',\n",
       "                                                       'also', 'although',\n",
       "                                                       'always', 'am', 'among',\n",
       "                                                       'amongst', 'amoungst',\n",
       "                                                       'amount', 'an', 'and',\n",
       "                                                       'another', 'any',\n",
       "                                                       'anyhow', 'anyone',\n",
       "                                                       'anything', 'anyway', ...}))),\n",
       "                ('svc',\n",
       "                 SVC(C=0.6309945235509472, degree=2, kernel='sigmoid',\n",
       "                     random_state=42))])"
      ]
     },
     "execution_count": 74,
     "metadata": {},
     "output_type": "execute_result"
    }
   ],
   "source": [
    "svctf_rs.best_estimator_"
   ]
  },
  {
   "cell_type": "markdown",
   "metadata": {},
   "source": [
    "# Model 3: Logreg with RandomSearch\n",
    "Best params on subset determined to be the following:  allowing a couple RandomSearch params here but mostly fixed.  \n",
    "\n",
    "* 'cvec__max_df': 0.9836611966780151,\n",
    "* 'cvec__max_features': 6019,\n",
    "* 'cvec__min_df': 0.0099833053147566,\n",
    "* 'logreg__C': 0.0001638175852226399,\n",
    "* 'logreg__penalty': 'l2',\n",
    "* 'logreg__solver': 'saga'"
   ]
  },
  {
   "cell_type": "code",
   "execution_count": 44,
   "metadata": {},
   "outputs": [],
   "source": [
    "logreg_pipe = Pipeline([\n",
    "    ('cvec', CountVectorizer(stop_words=new_stop, max_df=.98, min_df=.01, max_features=7000) ),\n",
    "    ('ss', StandardScaler(with_mean=False) ),\n",
    "    ('logreg', LogisticRegression(random_state=42) )\n",
    "])\n",
    "\n",
    "logreg_params = {\n",
    "                 'logreg__penalty': ['l1','l2'],\n",
    "                'logreg__solver':['saga','liblinear'],\n",
    "                 'logreg__C': loguniform(1e-5,1)\n",
    "                }"
   ]
  },
  {
   "cell_type": "code",
   "execution_count": 45,
   "metadata": {},
   "outputs": [],
   "source": [
    "logreg = RandomizedSearchCV(\n",
    "    estimator = logreg_pipe,\n",
    "    param_distributions = logreg_params,\n",
    "    scoring='f1_weighted',\n",
    "    n_iter=1000,\n",
    "    cv=5,\n",
    "    n_jobs=-1, random_state=42, verbose=1)"
   ]
  },
  {
   "cell_type": "code",
   "execution_count": 46,
   "metadata": {
    "collapsed": true
   },
   "outputs": [
    {
     "name": "stdout",
     "output_type": "stream",
     "text": [
      "Fitting 5 folds for each of 1000 candidates, totalling 5000 fits\n"
     ]
    },
    {
     "name": "stderr",
     "output_type": "stream",
     "text": [
      "[Parallel(n_jobs=-1)]: Using backend LokyBackend with 8 concurrent workers.\n",
      "/Users/helenmeigs/opt/anaconda3/lib/python3.8/site-packages/joblib/externals/loky/process_executor.py:688: UserWarning: A worker stopped while some jobs were given to the executor. This can be caused by a too short worker timeout or by a memory leak.\n",
      "  warnings.warn(\n",
      "[Parallel(n_jobs=-1)]: Done  34 tasks      | elapsed:   14.5s\n",
      "[Parallel(n_jobs=-1)]: Done 184 tasks      | elapsed:  1.2min\n",
      "[Parallel(n_jobs=-1)]: Done 434 tasks      | elapsed:  3.1min\n",
      "[Parallel(n_jobs=-1)]: Done 784 tasks      | elapsed:  5.9min\n",
      "[Parallel(n_jobs=-1)]: Done 1234 tasks      | elapsed:  9.4min\n",
      "[Parallel(n_jobs=-1)]: Done 1784 tasks      | elapsed: 14.1min\n",
      "[Parallel(n_jobs=-1)]: Done 2434 tasks      | elapsed: 19.0min\n",
      "[Parallel(n_jobs=-1)]: Done 3184 tasks      | elapsed: 25.4min\n",
      "[Parallel(n_jobs=-1)]: Done 4034 tasks      | elapsed: 32.7min\n",
      "[Parallel(n_jobs=-1)]: Done 4984 tasks      | elapsed: 41.0min\n",
      "[Parallel(n_jobs=-1)]: Done 5000 out of 5000 | elapsed: 41.1min finished\n",
      "/Users/helenmeigs/opt/anaconda3/lib/python3.8/site-packages/sklearn/linear_model/_sag.py:329: ConvergenceWarning: The max_iter was reached which means the coef_ did not converge\n",
      "  warnings.warn(\"The max_iter was reached which means \"\n"
     ]
    },
    {
     "data": {
      "text/plain": [
       "RandomizedSearchCV(cv=5,\n",
       "                   estimator=Pipeline(steps=[('cvec',\n",
       "                                              CountVectorizer(max_df=0.98,\n",
       "                                                              max_features=7000,\n",
       "                                                              min_df=0.01,\n",
       "                                                              stop_words=frozenset({'a',\n",
       "                                                                                    'about',\n",
       "                                                                                    'above',\n",
       "                                                                                    'across',\n",
       "                                                                                    'advice',\n",
       "                                                                                    'after',\n",
       "                                                                                    'afterwards',\n",
       "                                                                                    'again',\n",
       "                                                                                    'against',\n",
       "                                                                                    'all',\n",
       "                                                                                    'almost',\n",
       "                                                                                    'alone',\n",
       "                                                                                    'along',\n",
       "                                                                                    'already',\n",
       "                                                                                    'also',\n",
       "                                                                                    'although',\n",
       "                                                                                    'always',\n",
       "                                                                                    'am',\n",
       "                                                                                    'among',\n",
       "                                                                                    'amongst',\n",
       "                                                                                    'amoungst',\n",
       "                                                                                    'amount',\n",
       "                                                                                    'an',\n",
       "                                                                                    'and',\n",
       "                                                                                    'another',\n",
       "                                                                                    'an...\n",
       "                                                                                    'anything',\n",
       "                                                                                    'anyway', ...}))),\n",
       "                                             ('ss',\n",
       "                                              StandardScaler(with_mean=False)),\n",
       "                                             ('logreg',\n",
       "                                              LogisticRegression(random_state=42))]),\n",
       "                   n_iter=1000, n_jobs=-1,\n",
       "                   param_distributions={'logreg__C': <scipy.stats._distn_infrastructure.rv_frozen object at 0x7fec9c010220>,\n",
       "                                        'logreg__penalty': ['l1', 'l2'],\n",
       "                                        'logreg__solver': ['saga',\n",
       "                                                           'liblinear']},\n",
       "                   random_state=42, scoring='f1_weighted', verbose=1)"
      ]
     },
     "execution_count": 46,
     "metadata": {},
     "output_type": "execute_result"
    }
   ],
   "source": [
    "logreg.fit(X_train, y_train)"
   ]
  },
  {
   "cell_type": "code",
   "execution_count": 62,
   "metadata": {},
   "outputs": [],
   "source": [
    "pkl_logreg = '../models/logreg.pkl'"
   ]
  },
  {
   "cell_type": "code",
   "execution_count": 63,
   "metadata": {},
   "outputs": [],
   "source": [
    "# with open (pkl_logreg, 'wb') as file:\n",
    "#      pickle.dump(logreg, file)"
   ]
  },
  {
   "cell_type": "code",
   "execution_count": 64,
   "metadata": {},
   "outputs": [],
   "source": [
    "with open(pkl_logreg, 'rb') as file:\n",
    "    logreg = pickle.load(file)"
   ]
  },
  {
   "cell_type": "code",
   "execution_count": 65,
   "metadata": {},
   "outputs": [
    {
     "name": "stdout",
     "output_type": "stream",
     "text": [
      "[[1889   92]\n",
      " [  84 1895]]\n",
      "\n",
      "Accuracy: 0.955556\n",
      "\n",
      "Sensitivity: 0.957554\n",
      "\n",
      "Precision: 0.9536990437845999\n",
      "\n",
      "Specificity: 0.953559\n",
      "\n",
      "F1: 0.9556227937468482\n"
     ]
    },
    {
     "data": {
      "image/png": "[encoded data removed]",
      "text/plain": [
       "<Figure size 432x288 with 2 Axes>"
      ]
     },
     "metadata": {
      "needs_background": "light"
     },
     "output_type": "display_data"
    }
   ],
   "source": [
    "see_scores(logreg, X_test, y_test)"
   ]
  },
  {
   "cell_type": "code",
   "execution_count": 66,
   "metadata": {},
   "outputs": [
    {
     "data": {
      "text/plain": [
       "{'logreg__C': 0.09460867797081408,\n",
       " 'logreg__penalty': 'l1',\n",
       " 'logreg__solver': 'saga'}"
      ]
     },
     "execution_count": 66,
     "metadata": {},
     "output_type": "execute_result"
    }
   ],
   "source": [
    "logreg.best_params_"
   ]
  },
  {
   "cell_type": "code",
   "execution_count": 70,
   "metadata": {},
   "outputs": [
    {
     "data": {
      "text/html": [
       "<div>\n",
       "<style scoped>\n",
       "    .dataframe tbody tr th:only-of-type {\n",
       "        vertical-align: middle;\n",
       "    }\n",
       "\n",
       "    .dataframe tbody tr th {\n",
       "        vertical-align: top;\n",
       "    }\n",
       "\n",
       "    .dataframe thead th {\n",
       "        text-align: right;\n",
       "    }\n",
       "</style>\n",
       "<table border=\"1\" class=\"dataframe\">\n",
       "  <thead>\n",
       "    <tr style=\"text-align: right;\">\n",
       "      <th></th>\n",
       "      <th>word</th>\n",
       "      <th>coef</th>\n",
       "    </tr>\n",
       "  </thead>\n",
       "  <tbody>\n",
       "    <tr>\n",
       "      <th>1573</th>\n",
       "      <td>want</td>\n",
       "      <td>0.429472</td>\n",
       "    </tr>\n",
       "    <tr>\n",
       "      <th>529</th>\n",
       "      <td>feel</td>\n",
       "      <td>0.408331</td>\n",
       "    </tr>\n",
       "    <tr>\n",
       "      <th>878</th>\n",
       "      <td>love</td>\n",
       "      <td>0.298075</td>\n",
       "    </tr>\n",
       "    <tr>\n",
       "      <th>685</th>\n",
       "      <td>help</td>\n",
       "      <td>0.283749</td>\n",
       "    </tr>\n",
       "    <tr>\n",
       "      <th>530</th>\n",
       "      <td>feeling</td>\n",
       "      <td>0.264569</td>\n",
       "    </tr>\n",
       "    <tr>\n",
       "      <th>1442</th>\n",
       "      <td>talk</td>\n",
       "      <td>0.238350</td>\n",
       "    </tr>\n",
       "    <tr>\n",
       "      <th>846</th>\n",
       "      <td>like</td>\n",
       "      <td>0.226246</td>\n",
       "    </tr>\n",
       "    <tr>\n",
       "      <th>803</th>\n",
       "      <td>know</td>\n",
       "      <td>0.222447</td>\n",
       "    </tr>\n",
       "    <tr>\n",
       "      <th>1557</th>\n",
       "      <td>ve</td>\n",
       "      <td>0.212607</td>\n",
       "    </tr>\n",
       "    <tr>\n",
       "      <th>1173</th>\n",
       "      <td>really</td>\n",
       "      <td>0.196193</td>\n",
       "    </tr>\n",
       "    <tr>\n",
       "      <th>1279</th>\n",
       "      <td>sex</td>\n",
       "      <td>0.195267</td>\n",
       "    </tr>\n",
       "    <tr>\n",
       "      <th>933</th>\n",
       "      <td>met</td>\n",
       "      <td>0.193659</td>\n",
       "    </tr>\n",
       "    <tr>\n",
       "      <th>1624</th>\n",
       "      <td>worried</td>\n",
       "      <td>0.191596</td>\n",
       "    </tr>\n",
       "    <tr>\n",
       "      <th>1601</th>\n",
       "      <td>weve</td>\n",
       "      <td>0.187929</td>\n",
       "    </tr>\n",
       "    <tr>\n",
       "      <th>610</th>\n",
       "      <td>girlfriend</td>\n",
       "      <td>0.186291</td>\n",
       "    </tr>\n",
       "    <tr>\n",
       "      <th>1179</th>\n",
       "      <td>recently</td>\n",
       "      <td>0.185955</td>\n",
       "    </tr>\n",
       "    <tr>\n",
       "      <th>788</th>\n",
       "      <td>just</td>\n",
       "      <td>0.181920</td>\n",
       "    </tr>\n",
       "    <tr>\n",
       "      <th>420</th>\n",
       "      <td>don</td>\n",
       "      <td>0.180317</td>\n",
       "    </tr>\n",
       "    <tr>\n",
       "      <th>421</th>\n",
       "      <td>dont</td>\n",
       "      <td>0.169678</td>\n",
       "    </tr>\n",
       "    <tr>\n",
       "      <th>167</th>\n",
       "      <td>boyfriend</td>\n",
       "      <td>0.167815</td>\n",
       "    </tr>\n",
       "  </tbody>\n",
       "</table>\n",
       "</div>"
      ],
      "text/plain": [
       "            word      coef\n",
       "1573        want  0.429472\n",
       "529         feel  0.408331\n",
       "878         love  0.298075\n",
       "685         help  0.283749\n",
       "530      feeling  0.264569\n",
       "1442        talk  0.238350\n",
       "846         like  0.226246\n",
       "803         know  0.222447\n",
       "1557          ve  0.212607\n",
       "1173      really  0.196193\n",
       "1279         sex  0.195267\n",
       "933          met  0.193659\n",
       "1624     worried  0.191596\n",
       "1601        weve  0.187929\n",
       "610   girlfriend  0.186291\n",
       "1179    recently  0.185955\n",
       "788         just  0.181920\n",
       "420          don  0.180317\n",
       "421         dont  0.169678\n",
       "167    boyfriend  0.167815"
      ]
     },
     "execution_count": 70,
     "metadata": {},
     "output_type": "execute_result"
    }
   ],
   "source": [
    "coefs_df = pd.DataFrame(zip(logreg.best_estimator_.named_steps['cvec'].get_feature_names(), \n",
    "                 logreg.best_estimator_.named_steps['logreg'].coef_[0])).rename(columns={\n",
    "    0:'word', 1:'coef'\n",
    "}).sort_values('coef',ascending=False)\n",
    "coefs_df.sort_values('coef', ascending=False).head(20)"
   ]
  }
 ],
 "metadata": {
  "kernelspec": {
   "display_name": "Python 3",
   "language": "python",
   "name": "python3"
  },
  "language_info": {
   "codemirror_mode": {
    "name": "ipython",
    "version": 3
   },
   "file_extension": ".py",
   "mimetype": "text/x-python",
   "name": "python",
   "nbconvert_exporter": "python",
   "pygments_lexer": "ipython3",
   "version": "3.8.5"
  }
 },
 "nbformat": 4,
 "nbformat_minor": 4
}
